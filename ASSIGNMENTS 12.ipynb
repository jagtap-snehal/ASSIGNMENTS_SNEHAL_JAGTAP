{
 "cells": [
  {
   "cell_type": "markdown",
   "id": "5e601b75",
   "metadata": {},
   "source": [
    "# Name : Snehal shyam jagtap\n",
    "\n",
    "## Assignement No 12\n"
   ]
  },
  {
   "cell_type": "markdown",
   "id": "64ef7789",
   "metadata": {},
   "source": [
    "### DATA PREPROCESSING AND FEATURE ENGINEERING IN MACHINE LEARNING\n",
    "\n",
    "This assignment aims to equip you with practical skills in data preprocessing, feature engineering, and feature selection techniques, which are crucial for building efficient machine learning models. You will work with a provided dataset to apply various techniques such as scaling, encoding, and feature selection methods including isolation forest and PPS score analysis."
   ]
  },
  {
   "cell_type": "markdown",
   "id": "c4e26e32",
   "metadata": {},
   "source": [
    "### Task 1. Data Exploration and Preprocessing"
   ]
  },
  {
   "cell_type": "code",
   "execution_count": 1,
   "id": "c8ab79cd",
   "metadata": {},
   "outputs": [],
   "source": [
    "import pandas as pd\n",
    "from sklearn.preprocessing import StandardScaler, MinMaxScaler\n",
    "from sklearn.impute import SimpleImputer"
   ]
  },
  {
   "cell_type": "code",
   "execution_count": 2,
   "id": "3321f281",
   "metadata": {},
   "outputs": [],
   "source": [
    "# Load the dataset\n",
    "df = pd.read_csv('adult_with_headers.csv')"
   ]
  },
  {
   "cell_type": "code",
   "execution_count": 3,
   "id": "4535a5fb",
   "metadata": {
    "scrolled": true
   },
   "outputs": [
    {
     "name": "stdout",
     "output_type": "stream",
     "text": [
      "<class 'pandas.core.frame.DataFrame'>\n",
      "RangeIndex: 32561 entries, 0 to 32560\n",
      "Data columns (total 15 columns):\n",
      " #   Column          Non-Null Count  Dtype \n",
      "---  ------          --------------  ----- \n",
      " 0   age             32561 non-null  int64 \n",
      " 1   workclass       32561 non-null  object\n",
      " 2   fnlwgt          32561 non-null  int64 \n",
      " 3   education       32561 non-null  object\n",
      " 4   education_num   32561 non-null  int64 \n",
      " 5   marital_status  32561 non-null  object\n",
      " 6   occupation      32561 non-null  object\n",
      " 7   relationship    32561 non-null  object\n",
      " 8   race            32561 non-null  object\n",
      " 9   sex             32561 non-null  object\n",
      " 10  capital_gain    32561 non-null  int64 \n",
      " 11  capital_loss    32561 non-null  int64 \n",
      " 12  hours_per_week  32561 non-null  int64 \n",
      " 13  native_country  32561 non-null  object\n",
      " 14  income          32561 non-null  object\n",
      "dtypes: int64(6), object(9)\n",
      "memory usage: 3.7+ MB\n"
     ]
    }
   ],
   "source": [
    "\n",
    "df.info()\n"
   ]
  },
  {
   "cell_type": "code",
   "execution_count": 4,
   "id": "d8e3d15d",
   "metadata": {},
   "outputs": [
    {
     "data": {
      "text/html": [
       "<div>\n",
       "<style scoped>\n",
       "    .dataframe tbody tr th:only-of-type {\n",
       "        vertical-align: middle;\n",
       "    }\n",
       "\n",
       "    .dataframe tbody tr th {\n",
       "        vertical-align: top;\n",
       "    }\n",
       "\n",
       "    .dataframe thead th {\n",
       "        text-align: right;\n",
       "    }\n",
       "</style>\n",
       "<table border=\"1\" class=\"dataframe\">\n",
       "  <thead>\n",
       "    <tr style=\"text-align: right;\">\n",
       "      <th></th>\n",
       "      <th>age</th>\n",
       "      <th>fnlwgt</th>\n",
       "      <th>education_num</th>\n",
       "      <th>capital_gain</th>\n",
       "      <th>capital_loss</th>\n",
       "      <th>hours_per_week</th>\n",
       "    </tr>\n",
       "  </thead>\n",
       "  <tbody>\n",
       "    <tr>\n",
       "      <th>count</th>\n",
       "      <td>32561.000000</td>\n",
       "      <td>3.256100e+04</td>\n",
       "      <td>32561.000000</td>\n",
       "      <td>32561.000000</td>\n",
       "      <td>32561.000000</td>\n",
       "      <td>32561.000000</td>\n",
       "    </tr>\n",
       "    <tr>\n",
       "      <th>mean</th>\n",
       "      <td>38.581647</td>\n",
       "      <td>1.897784e+05</td>\n",
       "      <td>10.080679</td>\n",
       "      <td>1077.648844</td>\n",
       "      <td>87.303830</td>\n",
       "      <td>40.437456</td>\n",
       "    </tr>\n",
       "    <tr>\n",
       "      <th>std</th>\n",
       "      <td>13.640433</td>\n",
       "      <td>1.055500e+05</td>\n",
       "      <td>2.572720</td>\n",
       "      <td>7385.292085</td>\n",
       "      <td>402.960219</td>\n",
       "      <td>12.347429</td>\n",
       "    </tr>\n",
       "    <tr>\n",
       "      <th>min</th>\n",
       "      <td>17.000000</td>\n",
       "      <td>1.228500e+04</td>\n",
       "      <td>1.000000</td>\n",
       "      <td>0.000000</td>\n",
       "      <td>0.000000</td>\n",
       "      <td>1.000000</td>\n",
       "    </tr>\n",
       "    <tr>\n",
       "      <th>25%</th>\n",
       "      <td>28.000000</td>\n",
       "      <td>1.178270e+05</td>\n",
       "      <td>9.000000</td>\n",
       "      <td>0.000000</td>\n",
       "      <td>0.000000</td>\n",
       "      <td>40.000000</td>\n",
       "    </tr>\n",
       "    <tr>\n",
       "      <th>50%</th>\n",
       "      <td>37.000000</td>\n",
       "      <td>1.783560e+05</td>\n",
       "      <td>10.000000</td>\n",
       "      <td>0.000000</td>\n",
       "      <td>0.000000</td>\n",
       "      <td>40.000000</td>\n",
       "    </tr>\n",
       "    <tr>\n",
       "      <th>75%</th>\n",
       "      <td>48.000000</td>\n",
       "      <td>2.370510e+05</td>\n",
       "      <td>12.000000</td>\n",
       "      <td>0.000000</td>\n",
       "      <td>0.000000</td>\n",
       "      <td>45.000000</td>\n",
       "    </tr>\n",
       "    <tr>\n",
       "      <th>max</th>\n",
       "      <td>90.000000</td>\n",
       "      <td>1.484705e+06</td>\n",
       "      <td>16.000000</td>\n",
       "      <td>99999.000000</td>\n",
       "      <td>4356.000000</td>\n",
       "      <td>99.000000</td>\n",
       "    </tr>\n",
       "  </tbody>\n",
       "</table>\n",
       "</div>"
      ],
      "text/plain": [
       "                age        fnlwgt  education_num  capital_gain  capital_loss  \\\n",
       "count  32561.000000  3.256100e+04   32561.000000  32561.000000  32561.000000   \n",
       "mean      38.581647  1.897784e+05      10.080679   1077.648844     87.303830   \n",
       "std       13.640433  1.055500e+05       2.572720   7385.292085    402.960219   \n",
       "min       17.000000  1.228500e+04       1.000000      0.000000      0.000000   \n",
       "25%       28.000000  1.178270e+05       9.000000      0.000000      0.000000   \n",
       "50%       37.000000  1.783560e+05      10.000000      0.000000      0.000000   \n",
       "75%       48.000000  2.370510e+05      12.000000      0.000000      0.000000   \n",
       "max       90.000000  1.484705e+06      16.000000  99999.000000   4356.000000   \n",
       "\n",
       "       hours_per_week  \n",
       "count    32561.000000  \n",
       "mean        40.437456  \n",
       "std         12.347429  \n",
       "min          1.000000  \n",
       "25%         40.000000  \n",
       "50%         40.000000  \n",
       "75%         45.000000  \n",
       "max         99.000000  "
      ]
     },
     "execution_count": 4,
     "metadata": {},
     "output_type": "execute_result"
    }
   ],
   "source": [
    "df.describe()"
   ]
  },
  {
   "cell_type": "code",
   "execution_count": 5,
   "id": "5488f0ca",
   "metadata": {},
   "outputs": [
    {
     "data": {
      "text/plain": [
       "age               0\n",
       "workclass         0\n",
       "fnlwgt            0\n",
       "education         0\n",
       "education_num     0\n",
       "marital_status    0\n",
       "occupation        0\n",
       "relationship      0\n",
       "race              0\n",
       "sex               0\n",
       "capital_gain      0\n",
       "capital_loss      0\n",
       "hours_per_week    0\n",
       "native_country    0\n",
       "income            0\n",
       "dtype: int64"
      ]
     },
     "execution_count": 5,
     "metadata": {},
     "output_type": "execute_result"
    }
   ],
   "source": [
    "df.isnull().sum()"
   ]
  },
  {
   "cell_type": "code",
   "execution_count": 6,
   "id": "47e6c338",
   "metadata": {},
   "outputs": [],
   "source": [
    "# Handle missing values\n",
    "num_imputer = SimpleImputer(strategy='mean')\n",
    "cat_imputer = SimpleImputer(strategy='most_frequent')"
   ]
  },
  {
   "cell_type": "code",
   "execution_count": 7,
   "id": "eecc8494",
   "metadata": {},
   "outputs": [],
   "source": [
    "# Apply imputation\n",
    "numerical_columns = df.select_dtypes(include=['int64', 'float64']).columns\n",
    "categorical_columns = df.select_dtypes(include=['object']).columns\n",
    "\n",
    "df[numerical_columns] = num_imputer.fit_transform(df[numerical_columns])\n",
    "df[categorical_columns] = cat_imputer.fit_transform(df[categorical_columns])"
   ]
  },
  {
   "cell_type": "code",
   "execution_count": 8,
   "id": "c1babef2",
   "metadata": {},
   "outputs": [],
   "source": [
    "# Scaling techniques\n",
    "scaler_standard = StandardScaler()\n",
    "scaler_minmax = MinMaxScaler()"
   ]
  },
  {
   "cell_type": "code",
   "execution_count": 9,
   "id": "12b9d4a8",
   "metadata": {},
   "outputs": [],
   "source": [
    "# Standard scaling (useful for normal distributions)\n",
    "df_standard_scaled = pd.DataFrame(scaler_standard.fit_transform(df[numerical_columns]), columns=numerical_columns)"
   ]
  },
  {
   "cell_type": "code",
   "execution_count": 10,
   "id": "0f0fcb4a",
   "metadata": {},
   "outputs": [],
   "source": [
    "# Min-Max scaling (useful for uniform distributions)\n",
    "df_minmax_scaled = pd.DataFrame(scaler_minmax.fit_transform(df[numerical_columns]), columns=numerical_columns)"
   ]
  },
  {
   "cell_type": "markdown",
   "id": "725dbfc0",
   "metadata": {},
   "source": [
    "### Task 2. Encoding Techniques"
   ]
  },
  {
   "cell_type": "code",
   "execution_count": 11,
   "id": "38072fb5",
   "metadata": {},
   "outputs": [],
   "source": [
    "from sklearn.preprocessing import OneHotEncoder, LabelEncoder"
   ]
  },
  {
   "cell_type": "code",
   "execution_count": 12,
   "id": "6b1d319b",
   "metadata": {},
   "outputs": [],
   "source": [
    "# One-Hot Encoding for categorical variables with less than 5 categories\n",
    "one_hot_columns = [col for col in categorical_columns if df[col].nunique() < 5]\n",
    "df_one_hot_encoded = pd.get_dummies(df, columns=one_hot_columns)"
   ]
  },
  {
   "cell_type": "code",
   "execution_count": 13,
   "id": "b664963f",
   "metadata": {},
   "outputs": [],
   "source": [
    "# Label Encoding for categorical variables with more than 5 categories\n",
    "label_columns = [col for col in categorical_columns if df[col].nunique() >= 5]\n",
    "label_encoder = LabelEncoder()\n",
    "\n",
    "for col in label_columns:\n",
    "    df[col] = label_encoder.fit_transform(df[col])"
   ]
  },
  {
   "cell_type": "markdown",
   "id": "441f346d",
   "metadata": {},
   "source": [
    "### Task 3. Feature Engineering"
   ]
  },
  {
   "cell_type": "code",
   "execution_count": 14,
   "id": "6bb4e152",
   "metadata": {},
   "outputs": [],
   "source": [
    "import numpy as np"
   ]
  },
  {
   "cell_type": "code",
   "execution_count": 15,
   "id": "4e7d7cc9",
   "metadata": {},
   "outputs": [],
   "source": [
    "# Example feature 1: Age groups (young, middle-aged, senior)\n",
    "df['age_group'] = pd.cut(df['age'], bins=[0, 30, 60, 100], labels=['young', 'middle-aged', 'senior'])"
   ]
  },
  {
   "cell_type": "code",
   "execution_count": 16,
   "id": "66d0c17e",
   "metadata": {},
   "outputs": [],
   "source": [
    "# Example feature 2: Work experience (calculated from age and education)\n",
    "df['work_experience'] = df['age'] - df['education_num']"
   ]
  },
  {
   "cell_type": "code",
   "execution_count": 17,
   "id": "2f700da8",
   "metadata": {},
   "outputs": [],
   "source": [
    "# Log transformation for skewed features (e.g., capital-gain)\n",
    "df['capital_gain_log'] = np.log(df['capital_gain'] + 1)"
   ]
  },
  {
   "cell_type": "markdown",
   "id": "174bcd79",
   "metadata": {},
   "source": [
    "### Task 4. Feature Selection"
   ]
  },
  {
   "cell_type": "code",
   "execution_count": 18,
   "id": "54d1c83d",
   "metadata": {},
   "outputs": [],
   "source": [
    "from sklearn.ensemble import IsolationForest\n",
    "from ppscore import score"
   ]
  },
  {
   "cell_type": "code",
   "execution_count": 19,
   "id": "adb903e6",
   "metadata": {},
   "outputs": [
    {
     "name": "stderr",
     "output_type": "stream",
     "text": [
      "C:\\Users\\sneha\\Downloads\\anaconda3\\lib\\site-packages\\sklearn\\base.py:420: UserWarning: X does not have valid feature names, but IsolationForest was fitted with feature names\n",
      "  warnings.warn(\n"
     ]
    }
   ],
   "source": [
    "# Isolation Forest for outlier detection\n",
    "iso_forest = IsolationForest(contamination=0.05)\n",
    "outliers = iso_forest.fit_predict(df[numerical_columns])"
   ]
  },
  {
   "cell_type": "code",
   "execution_count": 20,
   "id": "29b017d3",
   "metadata": {},
   "outputs": [],
   "source": [
    "# Remove outliers\n",
    "df_no_outliers = df[outliers != -1]"
   ]
  },
  {
   "cell_type": "code",
   "execution_count": 21,
   "id": "4676a1e8",
   "metadata": {},
   "outputs": [
    {
     "name": "stdout",
     "output_type": "stream",
     "text": [
      "                    x                 y   ppscore            case  \\\n",
      "0                 age               age  1.000000  predict_itself   \n",
      "1                 age         workclass  0.000000      regression   \n",
      "2                 age            fnlwgt  0.000000      regression   \n",
      "3                 age         education  0.000000      regression   \n",
      "4                 age     education_num  0.000000      regression   \n",
      "..                ...               ...       ...             ...   \n",
      "319  capital_gain_log    native_country  0.000000      regression   \n",
      "320  capital_gain_log            income  0.225851  classification   \n",
      "321  capital_gain_log         age_group  0.000000  classification   \n",
      "322  capital_gain_log   work_experience  0.000000      regression   \n",
      "323  capital_gain_log  capital_gain_log  1.000000  predict_itself   \n",
      "\n",
      "     is_valid_score               metric  baseline_score   model_score  \\\n",
      "0              True                 None        0.000000      1.000000   \n",
      "1              True  mean absolute error        0.752200      0.885538   \n",
      "2              True  mean absolute error    75895.443200  77233.808243   \n",
      "3              True  mean absolute error        2.711600      2.787932   \n",
      "4              True  mean absolute error        1.792800      1.826933   \n",
      "..              ...                  ...             ...           ...   \n",
      "319            True  mean absolute error        2.204800      3.974863   \n",
      "320            True          weighted F1        0.679766      0.752091   \n",
      "321            True          weighted F1        0.494600      0.462961   \n",
      "322            True  mean absolute error       10.883400     10.940728   \n",
      "323            True                 None        0.000000      1.000000   \n",
      "\n",
      "                        model  \n",
      "0                        None  \n",
      "1     DecisionTreeRegressor()  \n",
      "2     DecisionTreeRegressor()  \n",
      "3     DecisionTreeRegressor()  \n",
      "4     DecisionTreeRegressor()  \n",
      "..                        ...  \n",
      "319   DecisionTreeRegressor()  \n",
      "320  DecisionTreeClassifier()  \n",
      "321  DecisionTreeClassifier()  \n",
      "322   DecisionTreeRegressor()  \n",
      "323                      None  \n",
      "\n",
      "[324 rows x 9 columns]\n"
     ]
    }
   ],
   "source": [
    "import ppscore as pps\n",
    "\n",
    "# PPS matrix for the entire dataset\n",
    "pps_matrix = pps.matrix(df_no_outliers)\n",
    "\n",
    "# Display the PPS matrix\n",
    "print(pps_matrix)"
   ]
  },
  {
   "cell_type": "code",
   "execution_count": 22,
   "id": "857960ea",
   "metadata": {},
   "outputs": [],
   "source": [
    "# Select only numeric columns for correlation matrix\n",
    "numeric_columns = df_no_outliers.select_dtypes(include=['int64', 'float64']).columns"
   ]
  },
  {
   "cell_type": "code",
   "execution_count": 23,
   "id": "3b57ae71",
   "metadata": {},
   "outputs": [],
   "source": [
    "# Compute the correlation matrix\n",
    "correlation_matrix = df_no_outliers[numeric_columns].corr()"
   ]
  },
  {
   "cell_type": "code",
   "execution_count": 24,
   "id": "b033e526",
   "metadata": {
    "scrolled": true
   },
   "outputs": [
    {
     "name": "stdout",
     "output_type": "stream",
     "text": [
      "                       age    fnlwgt  education_num  capital_gain  \\\n",
      "age               1.000000 -0.080272       0.031950      0.077290   \n",
      "fnlwgt           -0.080272  1.000000      -0.042765     -0.017191   \n",
      "education_num     0.031950 -0.042765       1.000000      0.104008   \n",
      "capital_gain      0.077290 -0.017191       0.104008      1.000000   \n",
      "capital_loss      0.009107 -0.027231       0.022770     -0.036722   \n",
      "hours_per_week    0.094227 -0.017516       0.130770      0.066533   \n",
      "work_experience   0.982877 -0.071486      -0.152764      0.057248   \n",
      "capital_gain_log  0.078487 -0.016795       0.078768      0.877722   \n",
      "\n",
      "                  capital_loss  hours_per_week  work_experience  \\\n",
      "age                   0.009107        0.094227         0.982877   \n",
      "fnlwgt               -0.027231       -0.017516        -0.071486   \n",
      "education_num         0.022770        0.130770        -0.152764   \n",
      "capital_gain         -0.036722        0.066533         0.057248   \n",
      "capital_loss          1.000000        0.031609         0.004807   \n",
      "hours_per_week        0.031609        1.000000         0.069060   \n",
      "work_experience       0.004807        0.069060         1.000000   \n",
      "capital_gain_log     -0.043598        0.056318         0.063084   \n",
      "\n",
      "                  capital_gain_log  \n",
      "age                       0.078487  \n",
      "fnlwgt                   -0.016795  \n",
      "education_num             0.078768  \n",
      "capital_gain              0.877722  \n",
      "capital_loss             -0.043598  \n",
      "hours_per_week            0.056318  \n",
      "work_experience           0.063084  \n",
      "capital_gain_log          1.000000  \n"
     ]
    }
   ],
   "source": [
    "# Display the correlation matrix\n",
    "print(correlation_matrix)\n"
   ]
  },
  {
   "cell_type": "code",
   "execution_count": null,
   "id": "c38dcd44",
   "metadata": {},
   "outputs": [],
   "source": []
  },
  {
   "cell_type": "code",
   "execution_count": null,
   "id": "835c85f1",
   "metadata": {},
   "outputs": [],
   "source": []
  }
 ],
 "metadata": {
  "kernelspec": {
   "display_name": "Python 3 (ipykernel)",
   "language": "python",
   "name": "python3"
  },
  "language_info": {
   "codemirror_mode": {
    "name": "ipython",
    "version": 3
   },
   "file_extension": ".py",
   "mimetype": "text/x-python",
   "name": "python",
   "nbconvert_exporter": "python",
   "pygments_lexer": "ipython3",
   "version": "3.10.9"
  }
 },
 "nbformat": 4,
 "nbformat_minor": 5
}
