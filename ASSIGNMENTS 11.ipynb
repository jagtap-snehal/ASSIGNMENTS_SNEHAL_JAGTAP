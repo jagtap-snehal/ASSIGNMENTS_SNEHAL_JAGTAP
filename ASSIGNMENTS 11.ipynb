{
 "cells": [
  {
   "cell_type": "markdown",
   "id": "88e84f78",
   "metadata": {
    "id": "88e84f78"
   },
   "source": [
    "# snehal Jagtap\n",
    "\n",
    "### Recommendation System"
   ]
  },
  {
   "cell_type": "markdown",
   "id": "3da2e7e2",
   "metadata": {
    "id": "f7b5d240"
   },
   "source": [
    "### Step 1 :Import libraries"
   ]
  },
  {
   "cell_type": "code",
   "execution_count": 2,
   "id": "10362de8",
   "metadata": {},
   "outputs": [],
   "source": [
    "import pandas as pd\n",
    "from sklearn.metrics.pairwise import cosine_similarity\n",
    "from sklearn.feature_extraction.text import TfidfVectorizer\n",
    "from sklearn.preprocessing import MinMaxScaler\n",
    "from sklearn.model_selection import train_test_split\n",
    "from sklearn.metrics import precision_score, recall_score, f1_score\n",
    "import numpy as np"
   ]
  },
  {
   "cell_type": "code",
   "execution_count": 3,
   "id": "23bb759b",
   "metadata": {},
   "outputs": [],
   "source": [
    "data = pd.read_csv('anime.csv')"
   ]
  },
  {
   "cell_type": "markdown",
   "id": "437dc502",
   "metadata": {},
   "source": [
    "### Step 2 :Preprocessing"
   ]
  },
  {
   "cell_type": "code",
   "execution_count": 4,
   "id": "82da6015",
   "metadata": {},
   "outputs": [
    {
     "data": {
      "text/plain": [
       "(12294, 7)"
      ]
     },
     "execution_count": 4,
     "metadata": {},
     "output_type": "execute_result"
    }
   ],
   "source": [
    "data.shape"
   ]
  },
  {
   "cell_type": "code",
   "execution_count": 5,
   "id": "828cf3eb",
   "metadata": {},
   "outputs": [
    {
     "data": {
      "text/html": [
       "<div>\n",
       "<style scoped>\n",
       "    .dataframe tbody tr th:only-of-type {\n",
       "        vertical-align: middle;\n",
       "    }\n",
       "\n",
       "    .dataframe tbody tr th {\n",
       "        vertical-align: top;\n",
       "    }\n",
       "\n",
       "    .dataframe thead th {\n",
       "        text-align: right;\n",
       "    }\n",
       "</style>\n",
       "<table border=\"1\" class=\"dataframe\">\n",
       "  <thead>\n",
       "    <tr style=\"text-align: right;\">\n",
       "      <th></th>\n",
       "      <th>anime_id</th>\n",
       "      <th>name</th>\n",
       "      <th>genre</th>\n",
       "      <th>type</th>\n",
       "      <th>episodes</th>\n",
       "      <th>rating</th>\n",
       "      <th>members</th>\n",
       "    </tr>\n",
       "  </thead>\n",
       "  <tbody>\n",
       "    <tr>\n",
       "      <th>0</th>\n",
       "      <td>32281</td>\n",
       "      <td>Kimi no Na wa.</td>\n",
       "      <td>Drama, Romance, School, Supernatural</td>\n",
       "      <td>Movie</td>\n",
       "      <td>1</td>\n",
       "      <td>9.37</td>\n",
       "      <td>200630</td>\n",
       "    </tr>\n",
       "    <tr>\n",
       "      <th>1</th>\n",
       "      <td>5114</td>\n",
       "      <td>Fullmetal Alchemist: Brotherhood</td>\n",
       "      <td>Action, Adventure, Drama, Fantasy, Magic, Mili...</td>\n",
       "      <td>TV</td>\n",
       "      <td>64</td>\n",
       "      <td>9.26</td>\n",
       "      <td>793665</td>\n",
       "    </tr>\n",
       "    <tr>\n",
       "      <th>2</th>\n",
       "      <td>28977</td>\n",
       "      <td>Gintama°</td>\n",
       "      <td>Action, Comedy, Historical, Parody, Samurai, S...</td>\n",
       "      <td>TV</td>\n",
       "      <td>51</td>\n",
       "      <td>9.25</td>\n",
       "      <td>114262</td>\n",
       "    </tr>\n",
       "    <tr>\n",
       "      <th>3</th>\n",
       "      <td>9253</td>\n",
       "      <td>Steins;Gate</td>\n",
       "      <td>Sci-Fi, Thriller</td>\n",
       "      <td>TV</td>\n",
       "      <td>24</td>\n",
       "      <td>9.17</td>\n",
       "      <td>673572</td>\n",
       "    </tr>\n",
       "    <tr>\n",
       "      <th>4</th>\n",
       "      <td>9969</td>\n",
       "      <td>Gintama&amp;#039;</td>\n",
       "      <td>Action, Comedy, Historical, Parody, Samurai, S...</td>\n",
       "      <td>TV</td>\n",
       "      <td>51</td>\n",
       "      <td>9.16</td>\n",
       "      <td>151266</td>\n",
       "    </tr>\n",
       "  </tbody>\n",
       "</table>\n",
       "</div>"
      ],
      "text/plain": [
       "   anime_id                              name  \\\n",
       "0     32281                    Kimi no Na wa.   \n",
       "1      5114  Fullmetal Alchemist: Brotherhood   \n",
       "2     28977                          Gintama°   \n",
       "3      9253                       Steins;Gate   \n",
       "4      9969                     Gintama&#039;   \n",
       "\n",
       "                                               genre   type episodes  rating  \\\n",
       "0               Drama, Romance, School, Supernatural  Movie        1    9.37   \n",
       "1  Action, Adventure, Drama, Fantasy, Magic, Mili...     TV       64    9.26   \n",
       "2  Action, Comedy, Historical, Parody, Samurai, S...     TV       51    9.25   \n",
       "3                                   Sci-Fi, Thriller     TV       24    9.17   \n",
       "4  Action, Comedy, Historical, Parody, Samurai, S...     TV       51    9.16   \n",
       "\n",
       "   members  \n",
       "0   200630  \n",
       "1   793665  \n",
       "2   114262  \n",
       "3   673572  \n",
       "4   151266  "
      ]
     },
     "execution_count": 5,
     "metadata": {},
     "output_type": "execute_result"
    }
   ],
   "source": [
    "data.head()\n"
   ]
  },
  {
   "cell_type": "code",
   "execution_count": 6,
   "id": "d77ccdc2",
   "metadata": {},
   "outputs": [
    {
     "data": {
      "text/html": [
       "<div>\n",
       "<style scoped>\n",
       "    .dataframe tbody tr th:only-of-type {\n",
       "        vertical-align: middle;\n",
       "    }\n",
       "\n",
       "    .dataframe tbody tr th {\n",
       "        vertical-align: top;\n",
       "    }\n",
       "\n",
       "    .dataframe thead th {\n",
       "        text-align: right;\n",
       "    }\n",
       "</style>\n",
       "<table border=\"1\" class=\"dataframe\">\n",
       "  <thead>\n",
       "    <tr style=\"text-align: right;\">\n",
       "      <th></th>\n",
       "      <th>anime_id</th>\n",
       "      <th>name</th>\n",
       "      <th>genre</th>\n",
       "      <th>type</th>\n",
       "      <th>episodes</th>\n",
       "      <th>rating</th>\n",
       "      <th>members</th>\n",
       "    </tr>\n",
       "  </thead>\n",
       "  <tbody>\n",
       "    <tr>\n",
       "      <th>12289</th>\n",
       "      <td>9316</td>\n",
       "      <td>Toushindai My Lover: Minami tai Mecha-Minami</td>\n",
       "      <td>Hentai</td>\n",
       "      <td>OVA</td>\n",
       "      <td>1</td>\n",
       "      <td>4.15</td>\n",
       "      <td>211</td>\n",
       "    </tr>\n",
       "    <tr>\n",
       "      <th>12290</th>\n",
       "      <td>5543</td>\n",
       "      <td>Under World</td>\n",
       "      <td>Hentai</td>\n",
       "      <td>OVA</td>\n",
       "      <td>1</td>\n",
       "      <td>4.28</td>\n",
       "      <td>183</td>\n",
       "    </tr>\n",
       "    <tr>\n",
       "      <th>12291</th>\n",
       "      <td>5621</td>\n",
       "      <td>Violence Gekiga David no Hoshi</td>\n",
       "      <td>Hentai</td>\n",
       "      <td>OVA</td>\n",
       "      <td>4</td>\n",
       "      <td>4.88</td>\n",
       "      <td>219</td>\n",
       "    </tr>\n",
       "    <tr>\n",
       "      <th>12292</th>\n",
       "      <td>6133</td>\n",
       "      <td>Violence Gekiga Shin David no Hoshi: Inma Dens...</td>\n",
       "      <td>Hentai</td>\n",
       "      <td>OVA</td>\n",
       "      <td>1</td>\n",
       "      <td>4.98</td>\n",
       "      <td>175</td>\n",
       "    </tr>\n",
       "    <tr>\n",
       "      <th>12293</th>\n",
       "      <td>26081</td>\n",
       "      <td>Yasuji no Pornorama: Yacchimae!!</td>\n",
       "      <td>Hentai</td>\n",
       "      <td>Movie</td>\n",
       "      <td>1</td>\n",
       "      <td>5.46</td>\n",
       "      <td>142</td>\n",
       "    </tr>\n",
       "  </tbody>\n",
       "</table>\n",
       "</div>"
      ],
      "text/plain": [
       "       anime_id                                               name   genre  \\\n",
       "12289      9316       Toushindai My Lover: Minami tai Mecha-Minami  Hentai   \n",
       "12290      5543                                        Under World  Hentai   \n",
       "12291      5621                     Violence Gekiga David no Hoshi  Hentai   \n",
       "12292      6133  Violence Gekiga Shin David no Hoshi: Inma Dens...  Hentai   \n",
       "12293     26081                   Yasuji no Pornorama: Yacchimae!!  Hentai   \n",
       "\n",
       "        type episodes  rating  members  \n",
       "12289    OVA        1    4.15      211  \n",
       "12290    OVA        1    4.28      183  \n",
       "12291    OVA        4    4.88      219  \n",
       "12292    OVA        1    4.98      175  \n",
       "12293  Movie        1    5.46      142  "
      ]
     },
     "execution_count": 6,
     "metadata": {},
     "output_type": "execute_result"
    }
   ],
   "source": [
    "data.tail()"
   ]
  },
  {
   "cell_type": "code",
   "execution_count": 7,
   "id": "a499ac15",
   "metadata": {},
   "outputs": [
    {
     "data": {
      "text/html": [
       "<div>\n",
       "<style scoped>\n",
       "    .dataframe tbody tr th:only-of-type {\n",
       "        vertical-align: middle;\n",
       "    }\n",
       "\n",
       "    .dataframe tbody tr th {\n",
       "        vertical-align: top;\n",
       "    }\n",
       "\n",
       "    .dataframe thead th {\n",
       "        text-align: right;\n",
       "    }\n",
       "</style>\n",
       "<table border=\"1\" class=\"dataframe\">\n",
       "  <thead>\n",
       "    <tr style=\"text-align: right;\">\n",
       "      <th></th>\n",
       "      <th>anime_id</th>\n",
       "      <th>rating</th>\n",
       "      <th>members</th>\n",
       "    </tr>\n",
       "  </thead>\n",
       "  <tbody>\n",
       "    <tr>\n",
       "      <th>count</th>\n",
       "      <td>12294.000000</td>\n",
       "      <td>12064.000000</td>\n",
       "      <td>1.229400e+04</td>\n",
       "    </tr>\n",
       "    <tr>\n",
       "      <th>mean</th>\n",
       "      <td>14058.221653</td>\n",
       "      <td>6.473902</td>\n",
       "      <td>1.807134e+04</td>\n",
       "    </tr>\n",
       "    <tr>\n",
       "      <th>std</th>\n",
       "      <td>11455.294701</td>\n",
       "      <td>1.026746</td>\n",
       "      <td>5.482068e+04</td>\n",
       "    </tr>\n",
       "    <tr>\n",
       "      <th>min</th>\n",
       "      <td>1.000000</td>\n",
       "      <td>1.670000</td>\n",
       "      <td>5.000000e+00</td>\n",
       "    </tr>\n",
       "    <tr>\n",
       "      <th>25%</th>\n",
       "      <td>3484.250000</td>\n",
       "      <td>5.880000</td>\n",
       "      <td>2.250000e+02</td>\n",
       "    </tr>\n",
       "    <tr>\n",
       "      <th>50%</th>\n",
       "      <td>10260.500000</td>\n",
       "      <td>6.570000</td>\n",
       "      <td>1.550000e+03</td>\n",
       "    </tr>\n",
       "    <tr>\n",
       "      <th>75%</th>\n",
       "      <td>24794.500000</td>\n",
       "      <td>7.180000</td>\n",
       "      <td>9.437000e+03</td>\n",
       "    </tr>\n",
       "    <tr>\n",
       "      <th>max</th>\n",
       "      <td>34527.000000</td>\n",
       "      <td>10.000000</td>\n",
       "      <td>1.013917e+06</td>\n",
       "    </tr>\n",
       "  </tbody>\n",
       "</table>\n",
       "</div>"
      ],
      "text/plain": [
       "           anime_id        rating       members\n",
       "count  12294.000000  12064.000000  1.229400e+04\n",
       "mean   14058.221653      6.473902  1.807134e+04\n",
       "std    11455.294701      1.026746  5.482068e+04\n",
       "min        1.000000      1.670000  5.000000e+00\n",
       "25%     3484.250000      5.880000  2.250000e+02\n",
       "50%    10260.500000      6.570000  1.550000e+03\n",
       "75%    24794.500000      7.180000  9.437000e+03\n",
       "max    34527.000000     10.000000  1.013917e+06"
      ]
     },
     "execution_count": 7,
     "metadata": {},
     "output_type": "execute_result"
    }
   ],
   "source": [
    "data.describe()"
   ]
  },
  {
   "cell_type": "code",
   "execution_count": 8,
   "id": "5acd9df7",
   "metadata": {},
   "outputs": [
    {
     "name": "stdout",
     "output_type": "stream",
     "text": [
      "<class 'pandas.core.frame.DataFrame'>\n",
      "RangeIndex: 12294 entries, 0 to 12293\n",
      "Data columns (total 7 columns):\n",
      " #   Column    Non-Null Count  Dtype  \n",
      "---  ------    --------------  -----  \n",
      " 0   anime_id  12294 non-null  int64  \n",
      " 1   name      12294 non-null  object \n",
      " 2   genre     12232 non-null  object \n",
      " 3   type      12269 non-null  object \n",
      " 4   episodes  12294 non-null  object \n",
      " 5   rating    12064 non-null  float64\n",
      " 6   members   12294 non-null  int64  \n",
      "dtypes: float64(1), int64(2), object(4)\n",
      "memory usage: 672.5+ KB\n"
     ]
    }
   ],
   "source": [
    "data.info()"
   ]
  },
  {
   "cell_type": "code",
   "execution_count": 9,
   "id": "c1008167",
   "metadata": {
    "scrolled": true
   },
   "outputs": [
    {
     "data": {
      "text/plain": [
       "anime_id      0\n",
       "name          0\n",
       "genre        62\n",
       "type         25\n",
       "episodes      0\n",
       "rating      230\n",
       "members       0\n",
       "dtype: int64"
      ]
     },
     "execution_count": 9,
     "metadata": {},
     "output_type": "execute_result"
    }
   ],
   "source": [
    "data.isnull().sum()"
   ]
  },
  {
   "cell_type": "code",
   "execution_count": 10,
   "id": "b8423246",
   "metadata": {},
   "outputs": [
    {
     "data": {
      "text/plain": [
       "anime_id      int64\n",
       "name         object\n",
       "genre        object\n",
       "type         object\n",
       "episodes     object\n",
       "rating      float64\n",
       "members       int64\n",
       "dtype: object"
      ]
     },
     "execution_count": 10,
     "metadata": {},
     "output_type": "execute_result"
    }
   ],
   "source": [
    "data.dtypes"
   ]
  },
  {
   "cell_type": "code",
   "execution_count": 11,
   "id": "50656b8d",
   "metadata": {},
   "outputs": [
    {
     "data": {
      "text/plain": [
       "array(['1', '64', '51', '24', '10', '148', '110', '13', '201', '25', '22',\n",
       "       '75', '4', '26', '12', '27', '43', '74', '37', '2', '11', '99',\n",
       "       'Unknown', '39', '101', '47', '50', '62', '33', '112', '23', '3',\n",
       "       '94', '6', '8', '14', '7', '40', '15', '203', '77', '291', '120',\n",
       "       '102', '96', '38', '79', '175', '103', '70', '153', '45', '5',\n",
       "       '21', '63', '52', '28', '145', '36', '69', '60', '178', '114',\n",
       "       '35', '61', '34', '109', '20', '9', '49', '366', '97', '48', '78',\n",
       "       '358', '155', '104', '113', '54', '167', '161', '42', '142', '31',\n",
       "       '373', '220', '46', '195', '17', '1787', '73', '147', '127', '16',\n",
       "       '19', '98', '150', '76', '53', '124', '29', '115', '224', '44',\n",
       "       '58', '93', '154', '92', '67', '172', '86', '30', '276', '59',\n",
       "       '72', '330', '41', '105', '128', '137', '56', '55', '65', '243',\n",
       "       '193', '18', '191', '180', '91', '192', '66', '182', '32', '164',\n",
       "       '100', '296', '694', '95', '68', '117', '151', '130', '87', '170',\n",
       "       '119', '84', '108', '156', '140', '331', '305', '300', '510',\n",
       "       '200', '88', '1471', '526', '143', '726', '136', '1818', '237',\n",
       "       '1428', '365', '163', '283', '71', '260', '199', '225', '312',\n",
       "       '240', '1306', '1565', '773', '1274', '90', '475', '263', '83',\n",
       "       '85', '1006', '80', '162', '132', '141', '125'], dtype=object)"
      ]
     },
     "execution_count": 11,
     "metadata": {},
     "output_type": "execute_result"
    }
   ],
   "source": [
    "data['episodes'].unique()"
   ]
  },
  {
   "cell_type": "code",
   "execution_count": 12,
   "id": "9e7243ce",
   "metadata": {},
   "outputs": [
    {
     "data": {
      "text/plain": [
       "array([ 9.37,  9.26,  9.25,  9.17,  9.16,  9.15,  9.13,  9.11,  9.1 ,\n",
       "        9.06,  9.05,  9.04,  8.98,  8.93,  8.92,  8.88,  8.84,  8.83,\n",
       "        8.82,  8.81,  8.8 ,  8.78,  8.77,  8.76,  8.75,  8.74,  8.73,\n",
       "        8.72,  8.71,  8.69,  8.68,  8.67,  8.66,  8.65,  8.64,  8.62,\n",
       "        8.61,  8.6 ,  8.59,  8.58,  8.57,  8.56,  8.55,  8.54,  8.53,\n",
       "        8.52,  8.51,  8.5 ,  8.49,  8.48,  8.47,  8.46,  8.45,  8.44,\n",
       "        8.43,  8.42,  8.41,  8.4 ,  8.39,  8.38,  8.37,  8.36,  8.35,\n",
       "        8.34,  8.33,  8.32,  8.31,  8.3 ,  8.29,  8.28,  8.27,  8.26,\n",
       "        8.25,  8.24,  8.23,  8.22,  8.21,  8.2 ,  8.19,  8.18,  8.17,\n",
       "        8.16,  8.15,  8.14,  8.13,  8.12,  8.11,  8.1 ,  8.09,  8.08,\n",
       "        8.07,  8.06,  8.05,  8.04,  8.03,  8.02,  8.01,  8.  ,  7.99,\n",
       "        7.98,  7.97,  7.96,  7.95,  7.94,  7.93,  7.92,  7.91,  7.9 ,\n",
       "        7.89,  7.88,  7.87,  7.86,  7.85,  7.84,  7.83,  7.82,  7.81,\n",
       "        7.8 ,  7.79,  7.78,  7.77,  7.76,  7.75,  7.74,  7.73,  7.72,\n",
       "        7.71,  7.7 ,  7.69,  7.68,  7.67,  7.66,  7.65,  7.64,  7.63,\n",
       "        7.62,  7.61,  7.6 ,  7.59,  7.58,  7.57,  7.56,  7.55,  7.54,\n",
       "        7.53,  7.52,  7.51,  7.5 ,  7.49,  7.48,  7.47,  7.46,  7.45,\n",
       "        7.44,  7.43,  7.42,  7.41,  7.4 ,  7.39,  7.38,  7.37,  7.36,\n",
       "        7.35,  7.34,  7.33,  7.32,  7.31,  7.3 ,  7.29,  7.28,  7.27,\n",
       "        7.25,  7.26,  7.24,  7.23,  7.22,  7.21,  7.2 ,  7.19,  7.18,\n",
       "        7.17,  7.16,  7.14,  7.15,  7.13,  7.12,  7.11,  7.1 ,  7.09,\n",
       "        7.08,  7.07,  7.06,  7.05,  7.04,  7.03,  7.02,  7.01,  7.  ,\n",
       "        6.99,  6.98,  6.97,  6.96,  6.95,  6.94,  6.93,  6.92,  6.91,\n",
       "        6.9 ,  6.89,  6.88,  6.87,  6.86,  6.85,  6.84,  6.83,  6.82,\n",
       "        6.81,  6.8 ,  6.79,  6.78,  6.75,  6.77,  6.76,  6.74,  6.73,\n",
       "        6.72,  6.71,  6.7 ,  6.69,  6.68,  6.67,  6.66,  6.65,  6.64,\n",
       "        6.63,  6.62,  6.61,  6.6 ,  6.59,  6.58,  6.57,  6.56,  6.55,\n",
       "        6.54,  6.53,  6.52,  6.51,  6.47,  6.5 ,  6.49,  6.48,  6.46,\n",
       "        6.45,  6.42,  6.44,  6.43,  6.39,  6.41,  6.4 ,  6.38,  6.37,\n",
       "        6.35,  6.36,  6.34,  6.33,  6.32,  6.31,  6.3 ,  6.29,  6.28,\n",
       "        6.27,  6.26,  6.25,  6.22,  6.24,  6.23,  6.21,  6.2 ,  6.19,\n",
       "        6.18,  6.17,  6.16,  6.15,  6.14,  6.13,  6.12,  6.1 ,  6.11,\n",
       "        6.09,  6.08,  6.06,  6.07,  6.05,  6.04,  6.03,  6.01,  6.02,\n",
       "        6.  ,  5.99,  5.98,  5.97,  5.96,  5.95,  5.94,  5.93,  5.92,\n",
       "        5.91,  5.89,  5.9 ,  5.88,  5.87,  5.86,  5.85,  5.84,  5.83,\n",
       "        5.82,  5.81,  5.8 ,  5.79,  5.78,  5.77,  5.76,  5.75,  5.74,\n",
       "        5.73,  5.72,  5.7 ,  5.71,  5.69,  5.68,  5.67,  5.66,  5.65,\n",
       "        5.64,  5.63,  5.62,  5.61,  5.6 ,  5.59,  5.58,  5.57,  5.56,\n",
       "        5.55,  5.53,  5.54,  5.52,  5.51,  5.5 ,  5.49,  5.48,  5.46,\n",
       "        5.47,  5.45,  5.44,  5.43,  5.42,  5.41,  5.4 ,  5.39,  5.38,\n",
       "        5.37,  5.36,  5.35,  5.34,  5.33,  5.32,  5.31,  5.3 ,  5.29,\n",
       "        5.28,  5.27,  5.26,  5.24,  5.25,  5.23,  5.22,  5.21,  5.2 ,\n",
       "        5.19,  5.14,  5.18,  5.17,  5.16,  5.15,  5.13,  5.11,  5.12,\n",
       "        5.1 ,  5.09,  5.07,  5.08,  5.06,  5.05,  5.04,  5.03,  5.02,\n",
       "        5.01,  5.  ,  4.99,  4.98,  4.97,  4.96,  4.95,  4.94,  4.93,\n",
       "        4.92,  4.91,  4.9 ,  4.89,  4.88,  4.84,  4.87,  4.86,  4.85,\n",
       "        4.83,  4.82,  4.81,  4.8 ,  4.79,  4.78,  4.77,  4.76,  4.75,\n",
       "        4.74,  4.73,  4.72,  4.71,  4.7 ,  4.69,  4.68,  4.66,  4.67,\n",
       "        4.65,  4.64,  4.63,  4.62,  4.6 ,  4.59,  4.58,  4.57,  4.56,\n",
       "        4.55,  4.54,  4.53,  4.52,  4.49,  4.5 ,  4.48,  4.46,  4.45,\n",
       "        4.44,  4.43,  4.42,  4.4 ,  4.39,  4.38,  4.36,  4.35,  4.34,\n",
       "        4.32,  4.31,  4.3 ,  4.28,  4.27,  4.26,  4.25,  4.24,  4.23,\n",
       "        4.22,  4.21,  4.19,  4.17,  4.16,  4.15,  4.11,  4.08,  4.04,\n",
       "        4.03,  4.02,  4.  ,  3.99,  3.98,  3.96,  3.91,  3.9 ,  3.88,\n",
       "        3.87,  3.86,  3.84,  3.83,  3.82,  3.8 ,  3.78,  3.76,  3.75,\n",
       "        3.74,  3.73,  3.71,  3.7 ,  3.68,  3.65,  3.63,  3.62,  3.6 ,\n",
       "        3.58,  3.59,  3.56,  3.47,  3.46,  3.41,  3.36,  3.33,  3.32,\n",
       "        3.27,  2.95,  2.93,  2.78,  2.67,  2.37,  2.14,  2.  ,  4.06,\n",
       "        4.18,  4.09,  3.67,  3.  ,  4.33,  3.89,  4.2 ,  3.61,  4.13,\n",
       "        3.11,  2.58,  4.29,  3.43,  3.57,  4.05,  4.51,  3.4 ,  3.79,\n",
       "        3.81,  3.92,  3.48,  3.38,  3.95,  4.61,  3.34,  3.02,  2.69,\n",
       "        3.5 ,  3.97,  3.85,   nan,  3.77,  3.53,  9.33,  4.14,  4.12,\n",
       "        3.2 ,  3.93,  3.52,  2.55,  9.  ,  2.97,  4.1 ,  3.39,  3.17,\n",
       "        9.5 ,  3.25,  2.8 ,  2.91,  2.75,  4.41,  3.72,  3.94,  1.67,\n",
       "        4.37,  3.69,  3.26,  3.49,  2.49,  2.84,  4.07,  3.35,  3.54,\n",
       "        3.21,  3.42,  9.6 ,  3.28, 10.  ,  3.51,  3.29,  2.72,  3.64,\n",
       "        2.98,  3.44,  1.92,  2.86,  3.14])"
      ]
     },
     "execution_count": 12,
     "metadata": {},
     "output_type": "execute_result"
    }
   ],
   "source": [
    "data['rating'].unique()"
   ]
  },
  {
   "cell_type": "code",
   "execution_count": 14,
   "id": "472e7d65",
   "metadata": {},
   "outputs": [],
   "source": [
    "data['episodes'] = pd.to_numeric(data['episodes'], errors='coerce')\n",
    "data['episodes'].fillna(data['episodes'].mean(), inplace=True)"
   ]
  },
  {
   "cell_type": "code",
   "execution_count": 15,
   "id": "e2a4e00e",
   "metadata": {},
   "outputs": [],
   "source": [
    "data['rating'] = pd.to_numeric(data['rating'], errors='coerce')\n",
    "data['rating'].fillna(data['rating'].mean(), inplace=True)"
   ]
  },
  {
   "cell_type": "code",
   "execution_count": 16,
   "id": "5a9770f8",
   "metadata": {},
   "outputs": [],
   "source": [
    "# Normalize the ratings column\n",
    "scaler = MinMaxScaler()\n",
    "data['rating_normalized'] = scaler.fit_transform(data[['rating']])"
   ]
  },
  {
   "cell_type": "code",
   "execution_count": 17,
   "id": "c2b7c34a",
   "metadata": {},
   "outputs": [],
   "source": [
    "data['genre'].fillna('Unknown', inplace=True)"
   ]
  },
  {
   "cell_type": "code",
   "execution_count": 18,
   "id": "bda7ddfc",
   "metadata": {},
   "outputs": [
    {
     "data": {
      "text/plain": [
       "anime_id              0\n",
       "name                  0\n",
       "genre                 0\n",
       "type                 25\n",
       "episodes              0\n",
       "rating                0\n",
       "members               0\n",
       "rating_normalized     0\n",
       "dtype: int64"
      ]
     },
     "execution_count": 18,
     "metadata": {},
     "output_type": "execute_result"
    }
   ],
   "source": [
    "data.isnull().sum()"
   ]
  },
  {
   "cell_type": "code",
   "execution_count": 19,
   "id": "459d67f8",
   "metadata": {},
   "outputs": [],
   "source": [
    "# Combine relevant features into a single string for vectorization (e.g., genres, title)\n",
    "if 'name' in data.columns:\n",
    "    data['combined_features'] = data['name'] + ' ' + data['genre']\n",
    "elif 'anime_title' in data.columns:\n",
    "    data['combined_features'] = data['anime_title'] + ' ' + data['genre']\n",
    "else:\n",
    "    print(\"Title column not found. Please verify the dataset structure.\")\n"
   ]
  },
  {
   "cell_type": "code",
   "execution_count": 20,
   "id": "98755d3f",
   "metadata": {},
   "outputs": [
    {
     "data": {
      "text/html": [
       "<div>\n",
       "<style scoped>\n",
       "    .dataframe tbody tr th:only-of-type {\n",
       "        vertical-align: middle;\n",
       "    }\n",
       "\n",
       "    .dataframe tbody tr th {\n",
       "        vertical-align: top;\n",
       "    }\n",
       "\n",
       "    .dataframe thead th {\n",
       "        text-align: right;\n",
       "    }\n",
       "</style>\n",
       "<table border=\"1\" class=\"dataframe\">\n",
       "  <thead>\n",
       "    <tr style=\"text-align: right;\">\n",
       "      <th></th>\n",
       "      <th>anime_id</th>\n",
       "      <th>name</th>\n",
       "      <th>genre</th>\n",
       "      <th>type</th>\n",
       "      <th>episodes</th>\n",
       "      <th>rating</th>\n",
       "      <th>members</th>\n",
       "      <th>rating_normalized</th>\n",
       "      <th>combined_features</th>\n",
       "    </tr>\n",
       "  </thead>\n",
       "  <tbody>\n",
       "    <tr>\n",
       "      <th>0</th>\n",
       "      <td>32281</td>\n",
       "      <td>Kimi no Na wa.</td>\n",
       "      <td>Drama, Romance, School, Supernatural</td>\n",
       "      <td>Movie</td>\n",
       "      <td>1.0</td>\n",
       "      <td>9.37</td>\n",
       "      <td>200630</td>\n",
       "      <td>0.924370</td>\n",
       "      <td>Kimi no Na wa. Drama, Romance, School, Superna...</td>\n",
       "    </tr>\n",
       "    <tr>\n",
       "      <th>1</th>\n",
       "      <td>5114</td>\n",
       "      <td>Fullmetal Alchemist: Brotherhood</td>\n",
       "      <td>Action, Adventure, Drama, Fantasy, Magic, Mili...</td>\n",
       "      <td>TV</td>\n",
       "      <td>64.0</td>\n",
       "      <td>9.26</td>\n",
       "      <td>793665</td>\n",
       "      <td>0.911164</td>\n",
       "      <td>Fullmetal Alchemist: Brotherhood Action, Adven...</td>\n",
       "    </tr>\n",
       "    <tr>\n",
       "      <th>2</th>\n",
       "      <td>28977</td>\n",
       "      <td>Gintama°</td>\n",
       "      <td>Action, Comedy, Historical, Parody, Samurai, S...</td>\n",
       "      <td>TV</td>\n",
       "      <td>51.0</td>\n",
       "      <td>9.25</td>\n",
       "      <td>114262</td>\n",
       "      <td>0.909964</td>\n",
       "      <td>Gintama° Action, Comedy, Historical, Parody, S...</td>\n",
       "    </tr>\n",
       "    <tr>\n",
       "      <th>3</th>\n",
       "      <td>9253</td>\n",
       "      <td>Steins;Gate</td>\n",
       "      <td>Sci-Fi, Thriller</td>\n",
       "      <td>TV</td>\n",
       "      <td>24.0</td>\n",
       "      <td>9.17</td>\n",
       "      <td>673572</td>\n",
       "      <td>0.900360</td>\n",
       "      <td>Steins;Gate Sci-Fi, Thriller</td>\n",
       "    </tr>\n",
       "    <tr>\n",
       "      <th>4</th>\n",
       "      <td>9969</td>\n",
       "      <td>Gintama&amp;#039;</td>\n",
       "      <td>Action, Comedy, Historical, Parody, Samurai, S...</td>\n",
       "      <td>TV</td>\n",
       "      <td>51.0</td>\n",
       "      <td>9.16</td>\n",
       "      <td>151266</td>\n",
       "      <td>0.899160</td>\n",
       "      <td>Gintama&amp;#039; Action, Comedy, Historical, Paro...</td>\n",
       "    </tr>\n",
       "  </tbody>\n",
       "</table>\n",
       "</div>"
      ],
      "text/plain": [
       "   anime_id                              name  \\\n",
       "0     32281                    Kimi no Na wa.   \n",
       "1      5114  Fullmetal Alchemist: Brotherhood   \n",
       "2     28977                          Gintama°   \n",
       "3      9253                       Steins;Gate   \n",
       "4      9969                     Gintama&#039;   \n",
       "\n",
       "                                               genre   type  episodes  rating  \\\n",
       "0               Drama, Romance, School, Supernatural  Movie       1.0    9.37   \n",
       "1  Action, Adventure, Drama, Fantasy, Magic, Mili...     TV      64.0    9.26   \n",
       "2  Action, Comedy, Historical, Parody, Samurai, S...     TV      51.0    9.25   \n",
       "3                                   Sci-Fi, Thriller     TV      24.0    9.17   \n",
       "4  Action, Comedy, Historical, Parody, Samurai, S...     TV      51.0    9.16   \n",
       "\n",
       "   members  rating_normalized  \\\n",
       "0   200630           0.924370   \n",
       "1   793665           0.911164   \n",
       "2   114262           0.909964   \n",
       "3   673572           0.900360   \n",
       "4   151266           0.899160   \n",
       "\n",
       "                                   combined_features  \n",
       "0  Kimi no Na wa. Drama, Romance, School, Superna...  \n",
       "1  Fullmetal Alchemist: Brotherhood Action, Adven...  \n",
       "2  Gintama° Action, Comedy, Historical, Parody, S...  \n",
       "3                       Steins;Gate Sci-Fi, Thriller  \n",
       "4  Gintama&#039; Action, Comedy, Historical, Paro...  "
      ]
     },
     "execution_count": 20,
     "metadata": {},
     "output_type": "execute_result"
    }
   ],
   "source": [
    "data.head()"
   ]
  },
  {
   "cell_type": "code",
   "execution_count": 21,
   "id": "367596c7",
   "metadata": {},
   "outputs": [],
   "source": [
    "tfidf = TfidfVectorizer(stop_words='english')\n",
    "tfidf_matrix = tfidf.fit_transform(data['combined_features'])"
   ]
  },
  {
   "cell_type": "markdown",
   "id": "984ddd1b",
   "metadata": {},
   "source": [
    "### Step 3: Recommendation System"
   ]
  },
  {
   "cell_type": "code",
   "execution_count": 22,
   "id": "67ba2224",
   "metadata": {},
   "outputs": [],
   "source": [
    "# Calculate cosine similarity matrix\n",
    "cosine_sim = cosine_similarity(tfidf_matrix, tfidf_matrix)"
   ]
  },
  {
   "cell_type": "code",
   "execution_count": 23,
   "id": "da960797",
   "metadata": {},
   "outputs": [],
   "source": [
    "# Function to recommend anime based on cosine similarity\n",
    "def recommend_anime(title, cosine_sim=cosine_sim, df=data):\n",
    "    # Check which column contains the anime title\n",
    "    title_column = 'title'  # Update this to the correct column name if needed\n",
    "\n",
    "    if 'name' in df.columns:\n",
    "        title_column = 'name'\n",
    "    elif 'anime_title' in df.columns:\n",
    "        title_column = 'anime_title'\n",
    "\n",
    "    # Get the index of the anime that matches the title\n",
    "    try:\n",
    "        idx = df[df[title_column] == title].index[0]\n",
    "    except IndexError:\n",
    "        return f\"Anime titled '{title}' not found in the dataset.\"\n",
    "\n",
    "    # Get the pairwise similarity scores of all anime with the given anime\n",
    "    sim_scores = list(enumerate(cosine_sim[idx]))\n",
    "\n",
    "    # Sort the anime based on similarity scores\n",
    "    sim_scores = sorted(sim_scores, key=lambda x: x[1], reverse=True)\n",
    "\n",
    "    # Get the indices of the top 10 most similar anime (excluding itself)\n",
    "    sim_scores = sim_scores[1:11]\n",
    "\n",
    "    # Get the anime indices\n",
    "    anime_indices = [i[0] for i in sim_scores]\n",
    "\n",
    "    # Return the top 10 most similar anime\n",
    "    return df[title_column].iloc[anime_indices]"
   ]
  },
  {
   "cell_type": "code",
   "execution_count": 24,
   "id": "a5ff6fdd",
   "metadata": {},
   "outputs": [
    {
     "data": {
      "text/plain": [
       "719                            The Last: Naruto the Movie\n",
       "615                                    Naruto: Shippuuden\n",
       "1343                                          Naruto x UT\n",
       "486                              Boruto: Naruto the Movie\n",
       "2458                 Naruto Shippuuden: Sunny Side Battle\n",
       "784            Naruto: Shippuuden Movie 6 - Road to Ninja\n",
       "1103    Boruto: Naruto the Movie - Naruto ga Hokage ni...\n",
       "1472          Naruto: Shippuuden Movie 4 - The Lost Tower\n",
       "2416    Naruto: Honoo no Chuunin Shiken! Naruto vs. Ko...\n",
       "2997    Naruto Soyokazeden Movie: Naruto to Mashin to ...\n",
       "Name: name, dtype: object"
      ]
     },
     "execution_count": 24,
     "metadata": {},
     "output_type": "execute_result"
    }
   ],
   "source": [
    "recommend_anime('Naruto')"
   ]
  },
  {
   "cell_type": "markdown",
   "id": "03d93e7b",
   "metadata": {},
   "source": [
    "### Step 4: Evaluation"
   ]
  },
  {
   "cell_type": "code",
   "execution_count": 25,
   "id": "63d75663",
   "metadata": {},
   "outputs": [],
   "source": [
    "# Create a User-Anime Interaction Data\n",
    "data['user_id'] = np.random.randint(1, 50, size=len(data))  \n",
    "data['anime_id'] = data.index  \n",
    "data['rating'] = pd.to_numeric(data['rating'], errors='coerce')"
   ]
  },
  {
   "cell_type": "code",
   "execution_count": 26,
   "id": "761483bb",
   "metadata": {},
   "outputs": [],
   "source": [
    "train_data, test_data = train_test_split(data, test_size=0.2, random_state=42)"
   ]
  },
  {
   "cell_type": "code",
   "execution_count": 27,
   "id": "ee314598",
   "metadata": {},
   "outputs": [],
   "source": [
    "tfidf_matrix_train = tfidf.fit_transform(train_data['combined_features'])\n",
    "cosine_sim_train = cosine_similarity(tfidf_matrix_train, tfidf_matrix_train)"
   ]
  },
  {
   "cell_type": "code",
   "execution_count": 28,
   "id": "18700c1f",
   "metadata": {},
   "outputs": [],
   "source": [
    "def recommend_anime_from_train(title, df=train_data, cosine_sim=cosine_sim_train):\n",
    "    title_column = 'name'  # Replace with correct column name if needed\n",
    "    if 'name' in df.columns:\n",
    "        title_column = 'name'\n",
    "    elif 'anime_title' in df.columns:\n",
    "        title_column = 'anime_title'\n",
    "\n",
    "    if title not in df[title_column].values:\n",
    "        return []\n",
    "\n",
    "    idx = df[df[title_column] == title].index[0]\n",
    "    sim_scores = list(enumerate(cosine_sim[idx]))\n",
    "    sim_scores = sorted(sim_scores, key=lambda x: x[1], reverse=True)\n",
    "    sim_scores = sim_scores[1:11]\n",
    "    anime_indices = [i[0] for i in sim_scores]\n",
    "    return df[title_column].iloc[anime_indices].tolist()"
   ]
  },
  {
   "cell_type": "code",
   "execution_count": 29,
   "id": "caa4367f",
   "metadata": {},
   "outputs": [],
   "source": [
    "# Evaluate the recommendation system\n",
    "from sklearn.metrics import precision_score, recall_score, f1_score"
   ]
  },
  {
   "cell_type": "code",
   "execution_count": 30,
   "id": "87024fd8",
   "metadata": {},
   "outputs": [],
   "source": [
    "y_true, y_pred = [], []"
   ]
  },
  {
   "cell_type": "code",
   "execution_count": 31,
   "id": "1fff4f2a",
   "metadata": {},
   "outputs": [],
   "source": [
    "for _, row in test_data.iterrows():\n",
    "    recommended_anime = recommend_anime_from_train(row['name'])\n",
    "    y_true.append(1 if row['rating'] >= 3.5 else 0)\n",
    "    y_pred.append(1 if row['name'] in recommended_anime else 0)"
   ]
  },
  {
   "cell_type": "code",
   "execution_count": 34,
   "id": "f3e1726a",
   "metadata": {},
   "outputs": [
    {
     "name": "stdout",
     "output_type": "stream",
     "text": [
      "Precision: 0.00\n",
      "Recall: 0.00\n",
      "F1-Score: 0.00\n"
     ]
    },
    {
     "name": "stderr",
     "output_type": "stream",
     "text": [
      "C:\\Users\\sneha\\Downloads\\anaconda3\\lib\\site-packages\\sklearn\\metrics\\_classification.py:1344: UndefinedMetricWarning: Precision is ill-defined and being set to 0.0 due to no predicted samples. Use `zero_division` parameter to control this behavior.\n",
      "  _warn_prf(average, modifier, msg_start, len(result))\n"
     ]
    }
   ],
   "source": [
    "# Calculate Precision, Recall, and F1-Score\n",
    "if len(y_true) == len(y_pred):\n",
    "    # Calculate Precision, Recall, and F1-Score\n",
    "    precision = precision_score(y_true, y_pred)\n",
    "    recall = recall_score(y_true, y_pred)\n",
    "    f1 = f1_score(y_true, y_pred)\n",
    "\n",
    "    print(f\"Precision: {precision:.2f}\")\n",
    "    print(f\"Recall: {recall:.2f}\")\n",
    "    print(f\"F1-Score: {f1:.2f}\")\n",
    "else:\n",
    "    print(\"Error: Mismatch in the lengths of y_true and y_pred. Please check the data.\")"
   ]
  },
  {
   "cell_type": "code",
   "execution_count": null,
   "id": "6b1050c2",
   "metadata": {},
   "outputs": [],
   "source": []
  },
  {
   "cell_type": "code",
   "execution_count": null,
   "id": "c3d9d3d1",
   "metadata": {},
   "outputs": [],
   "source": []
  },
  {
   "cell_type": "markdown",
   "id": "98eed511",
   "metadata": {},
   "source": [
    "### Interview Questions"
   ]
  },
  {
   "cell_type": "markdown",
   "id": "2dec6822",
   "metadata": {},
   "source": [
    "**1. Can you explain the difference between user-based and item-based collaborative filtering?**\n"
   ]
  },
  {
   "cell_type": "markdown",
   "id": "d5044097",
   "metadata": {},
   "source": [
    "User-based collaborative filtering recommends items by finding users with similar preferences and suggesting items those similar users liked, while item-based collaborative filtering focuses on finding items similar to those a user has interacted with and recommending them. User-based filtering captures diverse preferences but struggles with scalability and data sparsity, whereas item-based filtering is more scalable and stable since item similarities are precomputed but may lack diversity in recommendations."
   ]
  },
  {
   "cell_type": "markdown",
   "id": "c458a5b9",
   "metadata": {},
   "source": [
    "**2. What is collaborative filtering, and how does it work?**"
   ]
  },
  {
   "cell_type": "markdown",
   "id": "4eeb0d5d",
   "metadata": {},
   "source": [
    "Collaborative filtering is a recommendation technique that predicts a user’s preferences by analyzing patterns of shared behavior among users or items. It works by collecting user-item interaction data (e.g., ratings or purchases), identifying similarities between users or items, and recommending items based on these patterns. There are two main types: user-based filtering, which finds similar users, and item-based filtering, which finds similar items. While collaborative filtering provides personalized recommendations without domain knowledge, it faces challenges like the cold start problem, data sparsity, and scalability issues."
   ]
  }
 ],
 "metadata": {
  "colab": {
   "provenance": []
  },
  "kernelspec": {
   "display_name": "Python 3 (ipykernel)",
   "language": "python",
   "name": "python3"
  },
  "language_info": {
   "codemirror_mode": {
    "name": "ipython",
    "version": 3
   },
   "file_extension": ".py",
   "mimetype": "text/x-python",
   "name": "python",
   "nbconvert_exporter": "python",
   "pygments_lexer": "ipython3",
   "version": "3.10.9"
  }
 },
 "nbformat": 4,
 "nbformat_minor": 5
}
