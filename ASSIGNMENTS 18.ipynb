{
 "cells": [
  {
   "cell_type": "markdown",
   "id": "d712a291",
   "metadata": {},
   "source": [
    "## Name : Snehal  shyam Jagtap\n",
    "\n",
    "## Assignment No 18\n",
    "\n"
   ]
  },
  {
   "cell_type": "markdown",
   "id": "96a3b4d7",
   "metadata": {},
   "source": [
    "### Neural Network\n",
    "In this assignment, you will be tasked with developing a classification model using Artificial Neural Networks (ANNs) to classify data points from the \"Alphabets_data.csv\" dataset into predefined categories of alphabets. This exercise aims to deepen your understanding of ANNs and the significant role hyperparameter tuning plays in enhancing model performance."
   ]
  },
  {
   "cell_type": "markdown",
   "id": "72415e2a",
   "metadata": {},
   "source": [
    "## 1. Importing Libraries"
   ]
  },
  {
   "cell_type": "code",
   "execution_count": 1,
   "id": "da33b9d1",
   "metadata": {},
   "outputs": [],
   "source": [
    "# Import necessary libraries\n",
    "import pandas as pd\n",
    "import numpy as np\n",
    "from sklearn.model_selection import train_test_split\n",
    "from sklearn.preprocessing import StandardScaler, LabelEncoder, OneHotEncoder\n",
    "from sklearn.compose import ColumnTransformer\n",
    "from sklearn.metrics import accuracy_score, classification_report, confusion_matrix\n",
    "import tensorflow as tf\n",
    "from tensorflow.keras.models import Sequential\n",
    "from tensorflow.keras.layers import Dense\n",
    "import matplotlib.pyplot as plt"
   ]
  },
  {
   "cell_type": "markdown",
   "id": "8e4c9b71",
   "metadata": {},
   "source": [
    "## 2. Load and Explore the Dataset"
   ]
  },
  {
   "cell_type": "code",
   "execution_count": 2,
   "id": "f480764e",
   "metadata": {},
   "outputs": [],
   "source": [
    "# Load the dataset\n",
    "data = pd.read_csv('Alphabets_data.csv')"
   ]
  },
  {
   "cell_type": "code",
   "execution_count": 3,
   "id": "01ab8cf0",
   "metadata": {},
   "outputs": [
    {
     "name": "stdout",
     "output_type": "stream",
     "text": [
      "  letter  xbox  ybox  width  height  onpix  xbar  ybar  x2bar  y2bar  xybar  \\\n",
      "0      T     2     8      3       5      1     8    13      0      6      6   \n",
      "1      I     5    12      3       7      2    10     5      5      4     13   \n",
      "2      D     4    11      6       8      6    10     6      2      6     10   \n",
      "3      N     7    11      6       6      3     5     9      4      6      4   \n",
      "4      G     2     1      3       1      1     8     6      6      6      6   \n",
      "\n",
      "   x2ybar  xy2bar  xedge  xedgey  yedge  yedgex  \n",
      "0      10       8      0       8      0       8  \n",
      "1       3       9      2       8      4      10  \n",
      "2       3       7      3       7      3       9  \n",
      "3       4      10      6      10      2       8  \n",
      "4       5       9      1       7      5      10  \n",
      "<class 'pandas.core.frame.DataFrame'>\n",
      "RangeIndex: 20000 entries, 0 to 19999\n",
      "Data columns (total 17 columns):\n",
      " #   Column  Non-Null Count  Dtype \n",
      "---  ------  --------------  ----- \n",
      " 0   letter  20000 non-null  object\n",
      " 1   xbox    20000 non-null  int64 \n",
      " 2   ybox    20000 non-null  int64 \n",
      " 3   width   20000 non-null  int64 \n",
      " 4   height  20000 non-null  int64 \n",
      " 5   onpix   20000 non-null  int64 \n",
      " 6   xbar    20000 non-null  int64 \n",
      " 7   ybar    20000 non-null  int64 \n",
      " 8   x2bar   20000 non-null  int64 \n",
      " 9   y2bar   20000 non-null  int64 \n",
      " 10  xybar   20000 non-null  int64 \n",
      " 11  x2ybar  20000 non-null  int64 \n",
      " 12  xy2bar  20000 non-null  int64 \n",
      " 13  xedge   20000 non-null  int64 \n",
      " 14  xedgey  20000 non-null  int64 \n",
      " 15  yedge   20000 non-null  int64 \n",
      " 16  yedgex  20000 non-null  int64 \n",
      "dtypes: int64(16), object(1)\n",
      "memory usage: 2.6+ MB\n",
      "None\n"
     ]
    }
   ],
   "source": [
    "# Data Exploration\n",
    "print(data.head())        # View first few rows\n",
    "print(data.info())        # Check for missing values and data types"
   ]
  },
  {
   "cell_type": "markdown",
   "id": "0761baae",
   "metadata": {},
   "source": [
    "## 3. Split Features (X) and Labels (y)"
   ]
  },
  {
   "cell_type": "code",
   "execution_count": 4,
   "id": "126ddddb",
   "metadata": {},
   "outputs": [],
   "source": [
    "# Split features (X) and labels (y)\n",
    "X = data.iloc[:, :-1]  # Features (could contain categorical data)\n",
    "y = data.iloc[:, -1]   # Target labels (alphabets)"
   ]
  },
  {
   "cell_type": "code",
   "execution_count": 5,
   "id": "61fa7fa2",
   "metadata": {},
   "outputs": [
    {
     "name": "stdout",
     "output_type": "stream",
     "text": [
      "Categorical Columns in X: Index(['letter'], dtype='object')\n"
     ]
    }
   ],
   "source": [
    "# Check if there are any categorical columns in X\n",
    "categorical_columns = X.select_dtypes(include=['object']).columns\n",
    "print(f\"Categorical Columns in X: {categorical_columns}\")"
   ]
  },
  {
   "cell_type": "markdown",
   "id": "fb9f5ef3",
   "metadata": {},
   "source": [
    "## 4. One-Hot Encoding of Categorical Columns"
   ]
  },
  {
   "cell_type": "code",
   "execution_count": 6,
   "id": "1c997297",
   "metadata": {},
   "outputs": [
    {
     "name": "stdout",
     "output_type": "stream",
     "text": [
      "After One-Hot Encoding, shape of X: (20000, 41)\n"
     ]
    }
   ],
   "source": [
    "# Apply One-Hot Encoding to categorical features, if any\n",
    "if len(categorical_columns) > 0:\n",
    "    column_transformer = ColumnTransformer(transformers=[\n",
    "        ('cat', OneHotEncoder(), categorical_columns)\n",
    "    ], remainder='passthrough')  # Keep other numerical columns as they are\n",
    "    X = column_transformer.fit_transform(X)\n",
    "    print(\"After One-Hot Encoding, shape of X:\", X.shape)\n",
    "else:\n",
    "    print(\"No categorical columns found.\")"
   ]
  },
  {
   "cell_type": "markdown",
   "id": "e57a781f",
   "metadata": {},
   "source": [
    "## 5. Label Encoding for Target Labels"
   ]
  },
  {
   "cell_type": "code",
   "execution_count": 7,
   "id": "83f84e30",
   "metadata": {},
   "outputs": [
    {
     "name": "stdout",
     "output_type": "stream",
     "text": [
      "Unique classes in y: [ 0  1  2  3  4  5  6  7  8  9 10 11 12 13 14 15]\n"
     ]
    }
   ],
   "source": [
    "# Encode the target labels (if they are categorical, like letters)\n",
    "label_encoder = LabelEncoder()\n",
    "y_encoded = label_encoder.fit_transform(y)\n",
    "print(\"Unique classes in y:\", np.unique(y))"
   ]
  },
  {
   "cell_type": "markdown",
   "id": "0c30477f",
   "metadata": {},
   "source": [
    "## 6. Splitting Dataset into Training and Testing Sets"
   ]
  },
  {
   "cell_type": "code",
   "execution_count": 8,
   "id": "fb495ac7",
   "metadata": {},
   "outputs": [],
   "source": [
    "# Split the dataset into training and testing sets (80% train, 20% test)\n",
    "X_train, X_test, y_train, y_test = train_test_split(X, y_encoded, test_size=0.2, random_state=42)"
   ]
  },
  {
   "cell_type": "code",
   "execution_count": 9,
   "id": "75f18bb4",
   "metadata": {},
   "outputs": [
    {
     "name": "stdout",
     "output_type": "stream",
     "text": [
      "Training Set: X_train: (16000, 41), y_train: (16000,)\n",
      "Test Set: X_test: (4000, 41), y_test: (4000,)\n"
     ]
    }
   ],
   "source": [
    "#Check the shape of the splits\n",
    "print(f\"Training Set: X_train: {X_train.shape}, y_train: {y_train.shape}\")\n",
    "print(f\"Test Set: X_test: {X_test.shape}, y_test: {y_test.shape}\")"
   ]
  },
  {
   "cell_type": "markdown",
   "id": "6abefe57",
   "metadata": {},
   "source": [
    "## 7. Normalizing Feature Data"
   ]
  },
  {
   "cell_type": "code",
   "execution_count": 10,
   "id": "5c81d278",
   "metadata": {},
   "outputs": [],
   "source": [
    "# Normalize the feature data (only for numerical columns)\n",
    "scaler = StandardScaler()\n",
    "X_train = scaler.fit_transform(X_train)\n",
    "X_test = scaler.transform(X_test)"
   ]
  },
  {
   "cell_type": "code",
   "execution_count": 11,
   "id": "e7b41664",
   "metadata": {},
   "outputs": [
    {
     "name": "stdout",
     "output_type": "stream",
     "text": [
      "Feature data normalized.\n"
     ]
    }
   ],
   "source": [
    "print(\"Feature data normalized.\")"
   ]
  },
  {
   "cell_type": "markdown",
   "id": "8790fa55",
   "metadata": {},
   "source": [
    "## 8. Build the ANN Model"
   ]
  },
  {
   "cell_type": "code",
   "execution_count": 12,
   "id": "b3043026",
   "metadata": {},
   "outputs": [],
   "source": [
    "# Build the ANN model\n",
    "model = Sequential()"
   ]
  },
  {
   "cell_type": "code",
   "execution_count": 13,
   "id": "73a7651b",
   "metadata": {},
   "outputs": [],
   "source": [
    "# Input layer and first hidden layer\n",
    "model.add(Dense(units=64, activation='relu', input_shape=(X_train.shape[1],)))"
   ]
  },
  {
   "cell_type": "code",
   "execution_count": 14,
   "id": "d967ffa4",
   "metadata": {},
   "outputs": [],
   "source": [
    "# Second hidden layer\n",
    "model.add(Dense(units=32, activation='relu'))"
   ]
  },
  {
   "cell_type": "code",
   "execution_count": 15,
   "id": "56fcf176",
   "metadata": {},
   "outputs": [],
   "source": [
    "# Output layer (using softmax for multiclass classification)\n",
    "model.add(Dense(units=len(np.unique(y)), activation='softmax'))"
   ]
  },
  {
   "cell_type": "code",
   "execution_count": 16,
   "id": "dd262606",
   "metadata": {},
   "outputs": [],
   "source": [
    "# Compile the model\n",
    "model.compile(optimizer='adam', loss='sparse_categorical_crossentropy', metrics=['accuracy'])"
   ]
  },
  {
   "cell_type": "code",
   "execution_count": 17,
   "id": "ded1ffc4",
   "metadata": {},
   "outputs": [
    {
     "name": "stdout",
     "output_type": "stream",
     "text": [
      "Model compiled.\n"
     ]
    }
   ],
   "source": [
    "print(\"Model compiled.\")"
   ]
  },
  {
   "cell_type": "markdown",
   "id": "9c7bc4a5",
   "metadata": {},
   "source": [
    "## 9. Training the Model"
   ]
  },
  {
   "cell_type": "code",
   "execution_count": 18,
   "id": "b4efc888",
   "metadata": {},
   "outputs": [
    {
     "name": "stdout",
     "output_type": "stream",
     "text": [
      "Epoch 1/30\n",
      "500/500 [==============================] - 2s 2ms/step - loss: 1.5192 - accuracy: 0.4606 - val_loss: 1.2416 - val_accuracy: 0.5415\n",
      "Epoch 2/30\n",
      "500/500 [==============================] - 1s 3ms/step - loss: 1.1648 - accuracy: 0.5480 - val_loss: 1.1091 - val_accuracy: 0.5750\n",
      "Epoch 3/30\n",
      "500/500 [==============================] - 1s 2ms/step - loss: 1.0574 - accuracy: 0.5901 - val_loss: 1.0312 - val_accuracy: 0.6005\n",
      "Epoch 4/30\n",
      "500/500 [==============================] - 1s 2ms/step - loss: 0.9881 - accuracy: 0.6151 - val_loss: 0.9871 - val_accuracy: 0.6100\n",
      "Epoch 5/30\n",
      "500/500 [==============================] - 1s 2ms/step - loss: 0.9430 - accuracy: 0.6286 - val_loss: 0.9475 - val_accuracy: 0.6263\n",
      "Epoch 6/30\n",
      "500/500 [==============================] - 1s 2ms/step - loss: 0.9064 - accuracy: 0.6436 - val_loss: 0.9333 - val_accuracy: 0.6305\n",
      "Epoch 7/30\n",
      "500/500 [==============================] - 1s 2ms/step - loss: 0.8769 - accuracy: 0.6521 - val_loss: 0.9117 - val_accuracy: 0.6375\n",
      "Epoch 8/30\n",
      "500/500 [==============================] - 1s 3ms/step - loss: 0.8525 - accuracy: 0.6630 - val_loss: 0.9050 - val_accuracy: 0.6432\n",
      "Epoch 9/30\n",
      "500/500 [==============================] - 1s 2ms/step - loss: 0.8337 - accuracy: 0.6664 - val_loss: 0.8838 - val_accuracy: 0.6485\n",
      "Epoch 10/30\n",
      "500/500 [==============================] - 1s 2ms/step - loss: 0.8160 - accuracy: 0.6755 - val_loss: 0.8753 - val_accuracy: 0.6572\n",
      "Epoch 11/30\n",
      "500/500 [==============================] - 1s 2ms/step - loss: 0.7984 - accuracy: 0.6852 - val_loss: 0.8604 - val_accuracy: 0.6543\n",
      "Epoch 12/30\n",
      "500/500 [==============================] - 1s 2ms/step - loss: 0.7860 - accuracy: 0.6855 - val_loss: 0.8509 - val_accuracy: 0.6595\n",
      "Epoch 13/30\n",
      "500/500 [==============================] - 1s 1ms/step - loss: 0.7730 - accuracy: 0.6907 - val_loss: 0.8524 - val_accuracy: 0.6600\n",
      "Epoch 14/30\n",
      "500/500 [==============================] - 1s 1ms/step - loss: 0.7626 - accuracy: 0.6957 - val_loss: 0.8431 - val_accuracy: 0.6630\n",
      "Epoch 15/30\n",
      "500/500 [==============================] - 1s 1ms/step - loss: 0.7546 - accuracy: 0.6948 - val_loss: 0.8363 - val_accuracy: 0.6668\n",
      "Epoch 16/30\n",
      "500/500 [==============================] - 1s 2ms/step - loss: 0.7440 - accuracy: 0.6994 - val_loss: 0.8274 - val_accuracy: 0.6668\n",
      "Epoch 17/30\n",
      "500/500 [==============================] - 1s 2ms/step - loss: 0.7364 - accuracy: 0.7043 - val_loss: 0.8321 - val_accuracy: 0.6662\n",
      "Epoch 18/30\n",
      "500/500 [==============================] - 1s 2ms/step - loss: 0.7298 - accuracy: 0.7061 - val_loss: 0.8377 - val_accuracy: 0.6593\n",
      "Epoch 19/30\n",
      "500/500 [==============================] - 1s 3ms/step - loss: 0.7222 - accuracy: 0.7082 - val_loss: 0.8136 - val_accuracy: 0.6725\n",
      "Epoch 20/30\n",
      "500/500 [==============================] - 1s 2ms/step - loss: 0.7143 - accuracy: 0.7165 - val_loss: 0.8196 - val_accuracy: 0.6687\n",
      "Epoch 21/30\n",
      "500/500 [==============================] - 1s 2ms/step - loss: 0.7085 - accuracy: 0.7168 - val_loss: 0.8084 - val_accuracy: 0.6737\n",
      "Epoch 22/30\n",
      "500/500 [==============================] - 1s 2ms/step - loss: 0.7028 - accuracy: 0.7138 - val_loss: 0.8152 - val_accuracy: 0.6752\n",
      "Epoch 23/30\n",
      "500/500 [==============================] - 1s 2ms/step - loss: 0.6970 - accuracy: 0.7177 - val_loss: 0.8097 - val_accuracy: 0.6743\n",
      "Epoch 24/30\n",
      "500/500 [==============================] - 1s 3ms/step - loss: 0.6911 - accuracy: 0.7216 - val_loss: 0.8021 - val_accuracy: 0.6758\n",
      "Epoch 25/30\n",
      "500/500 [==============================] - 1s 3ms/step - loss: 0.6870 - accuracy: 0.7208 - val_loss: 0.8090 - val_accuracy: 0.6720\n",
      "Epoch 26/30\n",
      "500/500 [==============================] - 1s 2ms/step - loss: 0.6810 - accuracy: 0.7238 - val_loss: 0.8075 - val_accuracy: 0.6768\n",
      "Epoch 27/30\n",
      "500/500 [==============================] - 1s 2ms/step - loss: 0.6786 - accuracy: 0.7251 - val_loss: 0.8010 - val_accuracy: 0.6743\n",
      "Epoch 28/30\n",
      "500/500 [==============================] - 1s 2ms/step - loss: 0.6716 - accuracy: 0.7292 - val_loss: 0.8039 - val_accuracy: 0.6777\n",
      "Epoch 29/30\n",
      "500/500 [==============================] - 1s 2ms/step - loss: 0.6667 - accuracy: 0.7291 - val_loss: 0.8047 - val_accuracy: 0.6798\n",
      "Epoch 30/30\n",
      "500/500 [==============================] - 1s 2ms/step - loss: 0.6645 - accuracy: 0.7296 - val_loss: 0.8063 - val_accuracy: 0.6733\n",
      "Model training completed.\n"
     ]
    }
   ],
   "source": [
    "# Train the model\n",
    "history = model.fit(X_train, y_train, validation_data=(X_test, y_test), epochs=30, batch_size=32)\n",
    "\n",
    "print(\"Model training completed.\")"
   ]
  },
  {
   "cell_type": "markdown",
   "id": "944b0868",
   "metadata": {},
   "source": [
    "## 10. Evaluating the Model"
   ]
  },
  {
   "cell_type": "code",
   "execution_count": 19,
   "id": "48af6392",
   "metadata": {},
   "outputs": [
    {
     "name": "stdout",
     "output_type": "stream",
     "text": [
      "125/125 [==============================] - 0s 986us/step - loss: 0.8063 - accuracy: 0.6733\n",
      "Test Accuracy: 67.33%\n"
     ]
    }
   ],
   "source": [
    "# Evaluate the model on the test data\n",
    "loss, accuracy = model.evaluate(X_test, y_test)\n",
    "print(f'Test Accuracy: {accuracy*100:.2f}%')"
   ]
  },
  {
   "cell_type": "markdown",
   "id": "09ad3ffe",
   "metadata": {},
   "source": [
    "## 11. Making Predictions"
   ]
  },
  {
   "cell_type": "code",
   "execution_count": 20,
   "id": "64bc8f9a",
   "metadata": {},
   "outputs": [
    {
     "name": "stdout",
     "output_type": "stream",
     "text": [
      "125/125 [==============================] - 0s 1ms/step\n",
      "Confusion Matrix:\n",
      " [[   0    0    0    1    0    0    0    0    0    0    0    0    0    0\n",
      "     0]\n",
      " [   0    2    1    0    1    0    0    0    0    0    0    0    0    0\n",
      "     0]\n",
      " [   0    3    0    0    0    0    1    1    1    0    0    0    0    0\n",
      "     0]\n",
      " [   0    1    0   12   11    6    1    0    0    0    0    0    0    0\n",
      "     0]\n",
      " [   0    1    0    6   46   29    8    2    0    1    0    1    0    0\n",
      "     0]\n",
      " [   0    0    0    1   11  102   60   16    3    1    1    0    1    0\n",
      "     0]\n",
      " [   0    0    0    0    2   22  220   89   15    4    0    1    0    0\n",
      "     0]\n",
      " [   0    0    0    0    1   13   60  476  149   10    3    0    0    0\n",
      "     0]\n",
      " [   0    0    0    0    1    3   13  196 1274   97    9    3    0    0\n",
      "     0]\n",
      " [   0    0    0    0    0    0    7   20  106  274   70    7    0    1\n",
      "     0]\n",
      " [   0    0    0    0    1    0    3    4   15   81  172   32    0    0\n",
      "     0]\n",
      " [   0    0    0    0    1    0    2    0    2   11   49  106    4    0\n",
      "     0]\n",
      " [   0    0    0    0    0    0    0    0    0    6    5   12    6    0\n",
      "     0]\n",
      " [   0    0    0    0    0    0    0    0    0    0    0    3    1    3\n",
      "     2]\n",
      " [   0    0    0    0    0    0    0    0    0    0    0    0    0    1\n",
      "     0]]\n",
      "Classification Report:\n",
      "               precision    recall  f1-score   support\n",
      "\n",
      "           0       0.00      0.00      0.00         1\n",
      "           1       0.29      0.50      0.36         4\n",
      "           2       0.00      0.00      0.00         6\n",
      "           3       0.60      0.39      0.47        31\n",
      "           4       0.61      0.49      0.54        94\n",
      "           5       0.58      0.52      0.55       196\n",
      "           6       0.59      0.62      0.60       353\n",
      "           7       0.59      0.67      0.63       712\n",
      "           8       0.81      0.80      0.81      1596\n",
      "           9       0.56      0.56      0.56       485\n",
      "          10       0.56      0.56      0.56       308\n",
      "          11       0.64      0.61      0.62       175\n",
      "          12       0.50      0.21      0.29        29\n",
      "          13       0.60      0.33      0.43         9\n",
      "          14       0.00      0.00      0.00         1\n",
      "\n",
      "    accuracy                           0.67      4000\n",
      "   macro avg       0.46      0.42      0.43      4000\n",
      "weighted avg       0.67      0.67      0.67      4000\n",
      "\n"
     ]
    },
    {
     "name": "stderr",
     "output_type": "stream",
     "text": [
      "C:\\Users\\sneha\\Downloads\\anaconda3\\lib\\site-packages\\sklearn\\metrics\\_classification.py:1344: UndefinedMetricWarning: Precision and F-score are ill-defined and being set to 0.0 in labels with no predicted samples. Use `zero_division` parameter to control this behavior.\n",
      "  _warn_prf(average, modifier, msg_start, len(result))\n",
      "C:\\Users\\sneha\\Downloads\\anaconda3\\lib\\site-packages\\sklearn\\metrics\\_classification.py:1344: UndefinedMetricWarning: Precision and F-score are ill-defined and being set to 0.0 in labels with no predicted samples. Use `zero_division` parameter to control this behavior.\n",
      "  _warn_prf(average, modifier, msg_start, len(result))\n",
      "C:\\Users\\sneha\\Downloads\\anaconda3\\lib\\site-packages\\sklearn\\metrics\\_classification.py:1344: UndefinedMetricWarning: Precision and F-score are ill-defined and being set to 0.0 in labels with no predicted samples. Use `zero_division` parameter to control this behavior.\n",
      "  _warn_prf(average, modifier, msg_start, len(result))\n"
     ]
    }
   ],
   "source": [
    "# Make predictions\n",
    "y_pred = np.argmax(model.predict(X_test), axis=1)\n",
    "\n",
    "# Display results\n",
    "print('Confusion Matrix:\\n', confusion_matrix(y_test, y_pred))\n",
    "print('Classification Report:\\n', classification_report(y_test, y_pred))"
   ]
  },
  {
   "cell_type": "markdown",
   "id": "dc9780c4",
   "metadata": {},
   "source": [
    "## 12. Plotting Training and Validation Accuracy"
   ]
  },
  {
   "cell_type": "code",
   "execution_count": 21,
   "id": "1ad37c5b",
   "metadata": {
    "scrolled": true
   },
   "outputs": [
    {
     "data": {
      "image/png": "[encoded data removed]",
      "text/plain": [
       "<Figure size 640x480 with 1 Axes>"
      ]
     },
     "metadata": {},
     "output_type": "display_data"
    }
   ],
   "source": [
    "# Plotting the training and validation accuracy\n",
    "plt.plot(history.history['accuracy'], label='Train Accuracy')\n",
    "plt.plot(history.history['val_accuracy'], label='Validation Accuracy')\n",
    "plt.xlabel('Epochs')\n",
    "plt.ylabel('Accuracy')\n",
    "plt.legend()\n",
    "plt.show()"
   ]
  },
  {
   "cell_type": "code",
   "execution_count": null,
   "id": "cecba4d8",
   "metadata": {},
   "outputs": [],
   "source": []
  },
  {
   "cell_type": "code",
   "execution_count": null,
   "id": "8bc494e6",
   "metadata": {},
   "outputs": [],
   "source": []
  },
  {
   "cell_type": "code",
   "execution_count": null,
   "id": "513bc9dc",
   "metadata": {},
   "outputs": [],
   "source": []
  },
  {
   "cell_type": "code",
   "execution_count": null,
   "id": "b425f53b",
   "metadata": {},
   "outputs": [],
   "source": []
  }
 ],
 "metadata": {
  "kernelspec": {
   "display_name": "Python 3 (ipykernel)",
   "language": "python",
   "name": "python3"
  },
  "language_info": {
   "codemirror_mode": {
    "name": "ipython",
    "version": 3
   },
   "file_extension": ".py",
   "mimetype": "text/x-python",
   "name": "python",
   "nbconvert_exporter": "python",
   "pygments_lexer": "ipython3",
   "version": "3.10.9"
  }
 },
 "nbformat": 4,
 "nbformat_minor": 5
}
