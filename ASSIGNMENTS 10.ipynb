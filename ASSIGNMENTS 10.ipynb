{
 "cells": [
  {
   "cell_type": "markdown",
   "id": "aa2b8088",
   "metadata": {},
   "source": [
    "# Name: Snehal Shyam Jagtap"
   ]
  },
  {
   "cell_type": "markdown",
   "id": "6bf78c43",
   "metadata": {},
   "source": [
    "## ASSOCIATION RULES"
   ]
  },
  {
   "cell_type": "markdown",
   "id": "761e0fc7",
   "metadata": {},
   "source": [
    "#### The Objective of this assignment is to introduce students to rule mining techniques, particularly focusing on market basket analysis and provide hands on experience."
   ]
  },
  {
   "cell_type": "markdown",
   "id": "e54791b3",
   "metadata": {},
   "source": [
    "## step 1 :Import Libraries"
   ]
  },
  {
   "cell_type": "code",
   "execution_count": 1,
   "id": "55b43ae4",
   "metadata": {},
   "outputs": [],
   "source": [
    "import pandas as pd\n",
    "from mlxtend.frequent_patterns import apriori, association_rules"
   ]
  },
  {
   "cell_type": "code",
   "execution_count": 2,
   "id": "44036f52",
   "metadata": {},
   "outputs": [],
   "source": [
    "data = pd.read_excel('Online Retails.xlsx')"
   ]
  },
  {
   "cell_type": "markdown",
   "id": "9ad58306",
   "metadata": {},
   "source": [
    "## Step 2: Data Preprocessing"
   ]
  },
  {
   "cell_type": "code",
   "execution_count": 6,
   "id": "3ddf71cd",
   "metadata": {},
   "outputs": [
    {
     "data": {
      "text/html": [
       "<div>\n",
       "<style scoped>\n",
       "    .dataframe tbody tr th:only-of-type {\n",
       "        vertical-align: middle;\n",
       "    }\n",
       "\n",
       "    .dataframe tbody tr th {\n",
       "        vertical-align: top;\n",
       "    }\n",
       "\n",
       "    .dataframe thead th {\n",
       "        text-align: right;\n",
       "    }\n",
       "</style>\n",
       "<table border=\"1\" class=\"dataframe\">\n",
       "  <thead>\n",
       "    <tr style=\"text-align: right;\">\n",
       "      <th></th>\n",
       "      <th>InvoiceNo</th>\n",
       "      <th>StockCode</th>\n",
       "      <th>Description</th>\n",
       "      <th>Quantity</th>\n",
       "      <th>InvoiceDate</th>\n",
       "      <th>UnitPrice</th>\n",
       "      <th>CustomerID</th>\n",
       "      <th>Country</th>\n",
       "    </tr>\n",
       "  </thead>\n",
       "  <tbody>\n",
       "    <tr>\n",
       "      <th>0</th>\n",
       "      <td>536365</td>\n",
       "      <td>85123A</td>\n",
       "      <td>WHITE HANGING HEART T-LIGHT HOLDER</td>\n",
       "      <td>6</td>\n",
       "      <td>2010-12-01 08:26:00</td>\n",
       "      <td>2.55</td>\n",
       "      <td>17850.0</td>\n",
       "      <td>United Kingdom</td>\n",
       "    </tr>\n",
       "    <tr>\n",
       "      <th>1</th>\n",
       "      <td>536365</td>\n",
       "      <td>71053</td>\n",
       "      <td>WHITE METAL LANTERN</td>\n",
       "      <td>6</td>\n",
       "      <td>2010-12-01 08:26:00</td>\n",
       "      <td>3.39</td>\n",
       "      <td>17850.0</td>\n",
       "      <td>United Kingdom</td>\n",
       "    </tr>\n",
       "    <tr>\n",
       "      <th>2</th>\n",
       "      <td>536365</td>\n",
       "      <td>84406B</td>\n",
       "      <td>CREAM CUPID HEARTS COAT HANGER</td>\n",
       "      <td>8</td>\n",
       "      <td>2010-12-01 08:26:00</td>\n",
       "      <td>2.75</td>\n",
       "      <td>17850.0</td>\n",
       "      <td>United Kingdom</td>\n",
       "    </tr>\n",
       "    <tr>\n",
       "      <th>3</th>\n",
       "      <td>536365</td>\n",
       "      <td>84029G</td>\n",
       "      <td>KNITTED UNION FLAG HOT WATER BOTTLE</td>\n",
       "      <td>6</td>\n",
       "      <td>2010-12-01 08:26:00</td>\n",
       "      <td>3.39</td>\n",
       "      <td>17850.0</td>\n",
       "      <td>United Kingdom</td>\n",
       "    </tr>\n",
       "    <tr>\n",
       "      <th>4</th>\n",
       "      <td>536365</td>\n",
       "      <td>84029E</td>\n",
       "      <td>RED WOOLLY HOTTIE WHITE HEART.</td>\n",
       "      <td>6</td>\n",
       "      <td>2010-12-01 08:26:00</td>\n",
       "      <td>3.39</td>\n",
       "      <td>17850.0</td>\n",
       "      <td>United Kingdom</td>\n",
       "    </tr>\n",
       "  </tbody>\n",
       "</table>\n",
       "</div>"
      ],
      "text/plain": [
       "  InvoiceNo StockCode                          Description  Quantity  \\\n",
       "0    536365    85123A   WHITE HANGING HEART T-LIGHT HOLDER         6   \n",
       "1    536365     71053                  WHITE METAL LANTERN         6   \n",
       "2    536365    84406B       CREAM CUPID HEARTS COAT HANGER         8   \n",
       "3    536365    84029G  KNITTED UNION FLAG HOT WATER BOTTLE         6   \n",
       "4    536365    84029E       RED WOOLLY HOTTIE WHITE HEART.         6   \n",
       "\n",
       "          InvoiceDate  UnitPrice  CustomerID         Country  \n",
       "0 2010-12-01 08:26:00       2.55     17850.0  United Kingdom  \n",
       "1 2010-12-01 08:26:00       3.39     17850.0  United Kingdom  \n",
       "2 2010-12-01 08:26:00       2.75     17850.0  United Kingdom  \n",
       "3 2010-12-01 08:26:00       3.39     17850.0  United Kingdom  \n",
       "4 2010-12-01 08:26:00       3.39     17850.0  United Kingdom  "
      ]
     },
     "execution_count": 6,
     "metadata": {},
     "output_type": "execute_result"
    }
   ],
   "source": [
    "data.head()"
   ]
  },
  {
   "cell_type": "code",
   "execution_count": 7,
   "id": "32644500",
   "metadata": {},
   "outputs": [
    {
     "data": {
      "text/html": [
       "<div>\n",
       "<style scoped>\n",
       "    .dataframe tbody tr th:only-of-type {\n",
       "        vertical-align: middle;\n",
       "    }\n",
       "\n",
       "    .dataframe tbody tr th {\n",
       "        vertical-align: top;\n",
       "    }\n",
       "\n",
       "    .dataframe thead th {\n",
       "        text-align: right;\n",
       "    }\n",
       "</style>\n",
       "<table border=\"1\" class=\"dataframe\">\n",
       "  <thead>\n",
       "    <tr style=\"text-align: right;\">\n",
       "      <th></th>\n",
       "      <th>InvoiceNo</th>\n",
       "      <th>StockCode</th>\n",
       "      <th>Description</th>\n",
       "      <th>Quantity</th>\n",
       "      <th>InvoiceDate</th>\n",
       "      <th>UnitPrice</th>\n",
       "      <th>CustomerID</th>\n",
       "      <th>Country</th>\n",
       "    </tr>\n",
       "  </thead>\n",
       "  <tbody>\n",
       "    <tr>\n",
       "      <th>541904</th>\n",
       "      <td>581587</td>\n",
       "      <td>22613</td>\n",
       "      <td>PACK OF 20 SPACEBOY NAPKINS</td>\n",
       "      <td>12</td>\n",
       "      <td>2011-12-09 12:50:00</td>\n",
       "      <td>0.85</td>\n",
       "      <td>12680.0</td>\n",
       "      <td>France</td>\n",
       "    </tr>\n",
       "    <tr>\n",
       "      <th>541905</th>\n",
       "      <td>581587</td>\n",
       "      <td>22899</td>\n",
       "      <td>CHILDREN'S APRON DOLLY GIRL</td>\n",
       "      <td>6</td>\n",
       "      <td>2011-12-09 12:50:00</td>\n",
       "      <td>2.10</td>\n",
       "      <td>12680.0</td>\n",
       "      <td>France</td>\n",
       "    </tr>\n",
       "    <tr>\n",
       "      <th>541906</th>\n",
       "      <td>581587</td>\n",
       "      <td>23254</td>\n",
       "      <td>CHILDRENS CUTLERY DOLLY GIRL</td>\n",
       "      <td>4</td>\n",
       "      <td>2011-12-09 12:50:00</td>\n",
       "      <td>4.15</td>\n",
       "      <td>12680.0</td>\n",
       "      <td>France</td>\n",
       "    </tr>\n",
       "    <tr>\n",
       "      <th>541907</th>\n",
       "      <td>581587</td>\n",
       "      <td>23255</td>\n",
       "      <td>CHILDRENS CUTLERY CIRCUS PARADE</td>\n",
       "      <td>4</td>\n",
       "      <td>2011-12-09 12:50:00</td>\n",
       "      <td>4.15</td>\n",
       "      <td>12680.0</td>\n",
       "      <td>France</td>\n",
       "    </tr>\n",
       "    <tr>\n",
       "      <th>541908</th>\n",
       "      <td>581587</td>\n",
       "      <td>22138</td>\n",
       "      <td>BAKING SET 9 PIECE RETROSPOT</td>\n",
       "      <td>3</td>\n",
       "      <td>2011-12-09 12:50:00</td>\n",
       "      <td>4.95</td>\n",
       "      <td>12680.0</td>\n",
       "      <td>France</td>\n",
       "    </tr>\n",
       "  </tbody>\n",
       "</table>\n",
       "</div>"
      ],
      "text/plain": [
       "       InvoiceNo StockCode                      Description  Quantity  \\\n",
       "541904    581587     22613      PACK OF 20 SPACEBOY NAPKINS        12   \n",
       "541905    581587     22899     CHILDREN'S APRON DOLLY GIRL          6   \n",
       "541906    581587     23254    CHILDRENS CUTLERY DOLLY GIRL          4   \n",
       "541907    581587     23255  CHILDRENS CUTLERY CIRCUS PARADE         4   \n",
       "541908    581587     22138    BAKING SET 9 PIECE RETROSPOT          3   \n",
       "\n",
       "               InvoiceDate  UnitPrice  CustomerID Country  \n",
       "541904 2011-12-09 12:50:00       0.85     12680.0  France  \n",
       "541905 2011-12-09 12:50:00       2.10     12680.0  France  \n",
       "541906 2011-12-09 12:50:00       4.15     12680.0  France  \n",
       "541907 2011-12-09 12:50:00       4.15     12680.0  France  \n",
       "541908 2011-12-09 12:50:00       4.95     12680.0  France  "
      ]
     },
     "execution_count": 7,
     "metadata": {},
     "output_type": "execute_result"
    }
   ],
   "source": [
    "data.tail()"
   ]
  },
  {
   "cell_type": "code",
   "execution_count": 8,
   "id": "1b083a05",
   "metadata": {},
   "outputs": [
    {
     "name": "stdout",
     "output_type": "stream",
     "text": [
      "<class 'pandas.core.frame.DataFrame'>\n",
      "RangeIndex: 541909 entries, 0 to 541908\n",
      "Data columns (total 8 columns):\n",
      " #   Column       Non-Null Count   Dtype         \n",
      "---  ------       --------------   -----         \n",
      " 0   InvoiceNo    541909 non-null  object        \n",
      " 1   StockCode    541909 non-null  object        \n",
      " 2   Description  540455 non-null  object        \n",
      " 3   Quantity     541909 non-null  int64         \n",
      " 4   InvoiceDate  541909 non-null  datetime64[ns]\n",
      " 5   UnitPrice    541909 non-null  float64       \n",
      " 6   CustomerID   406829 non-null  float64       \n",
      " 7   Country      541909 non-null  object        \n",
      "dtypes: datetime64[ns](1), float64(2), int64(1), object(4)\n",
      "memory usage: 33.1+ MB\n"
     ]
    }
   ],
   "source": [
    "data.info()"
   ]
  },
  {
   "cell_type": "code",
   "execution_count": 9,
   "id": "9aed7435",
   "metadata": {},
   "outputs": [
    {
     "data": {
      "text/plain": [
       "(541909, 8)"
      ]
     },
     "execution_count": 9,
     "metadata": {},
     "output_type": "execute_result"
    }
   ],
   "source": [
    "data.shape"
   ]
  },
  {
   "cell_type": "code",
   "execution_count": 10,
   "id": "90f2c8b8",
   "metadata": {},
   "outputs": [
    {
     "data": {
      "text/html": [
       "<div>\n",
       "<style scoped>\n",
       "    .dataframe tbody tr th:only-of-type {\n",
       "        vertical-align: middle;\n",
       "    }\n",
       "\n",
       "    .dataframe tbody tr th {\n",
       "        vertical-align: top;\n",
       "    }\n",
       "\n",
       "    .dataframe thead th {\n",
       "        text-align: right;\n",
       "    }\n",
       "</style>\n",
       "<table border=\"1\" class=\"dataframe\">\n",
       "  <thead>\n",
       "    <tr style=\"text-align: right;\">\n",
       "      <th></th>\n",
       "      <th>Quantity</th>\n",
       "      <th>UnitPrice</th>\n",
       "      <th>CustomerID</th>\n",
       "    </tr>\n",
       "  </thead>\n",
       "  <tbody>\n",
       "    <tr>\n",
       "      <th>count</th>\n",
       "      <td>541909.000000</td>\n",
       "      <td>541909.000000</td>\n",
       "      <td>406829.000000</td>\n",
       "    </tr>\n",
       "    <tr>\n",
       "      <th>mean</th>\n",
       "      <td>9.552250</td>\n",
       "      <td>4.611114</td>\n",
       "      <td>15287.690570</td>\n",
       "    </tr>\n",
       "    <tr>\n",
       "      <th>std</th>\n",
       "      <td>218.081158</td>\n",
       "      <td>96.759853</td>\n",
       "      <td>1713.600303</td>\n",
       "    </tr>\n",
       "    <tr>\n",
       "      <th>min</th>\n",
       "      <td>-80995.000000</td>\n",
       "      <td>-11062.060000</td>\n",
       "      <td>12346.000000</td>\n",
       "    </tr>\n",
       "    <tr>\n",
       "      <th>25%</th>\n",
       "      <td>1.000000</td>\n",
       "      <td>1.250000</td>\n",
       "      <td>13953.000000</td>\n",
       "    </tr>\n",
       "    <tr>\n",
       "      <th>50%</th>\n",
       "      <td>3.000000</td>\n",
       "      <td>2.080000</td>\n",
       "      <td>15152.000000</td>\n",
       "    </tr>\n",
       "    <tr>\n",
       "      <th>75%</th>\n",
       "      <td>10.000000</td>\n",
       "      <td>4.130000</td>\n",
       "      <td>16791.000000</td>\n",
       "    </tr>\n",
       "    <tr>\n",
       "      <th>max</th>\n",
       "      <td>80995.000000</td>\n",
       "      <td>38970.000000</td>\n",
       "      <td>18287.000000</td>\n",
       "    </tr>\n",
       "  </tbody>\n",
       "</table>\n",
       "</div>"
      ],
      "text/plain": [
       "            Quantity      UnitPrice     CustomerID\n",
       "count  541909.000000  541909.000000  406829.000000\n",
       "mean        9.552250       4.611114   15287.690570\n",
       "std       218.081158      96.759853    1713.600303\n",
       "min    -80995.000000  -11062.060000   12346.000000\n",
       "25%         1.000000       1.250000   13953.000000\n",
       "50%         3.000000       2.080000   15152.000000\n",
       "75%        10.000000       4.130000   16791.000000\n",
       "max     80995.000000   38970.000000   18287.000000"
      ]
     },
     "execution_count": 10,
     "metadata": {},
     "output_type": "execute_result"
    }
   ],
   "source": [
    "data.describe()\n"
   ]
  },
  {
   "cell_type": "code",
   "execution_count": 11,
   "id": "463d922e",
   "metadata": {},
   "outputs": [],
   "source": [
    "# Pivoting data to create a basket matrix\n",
    "basket = data.groupby(['InvoiceNo', 'Description'])['Quantity'].sum().unstack().fillna(0)\n"
   ]
  },
  {
   "cell_type": "code",
   "execution_count": 12,
   "id": "c01658e1",
   "metadata": {},
   "outputs": [],
   "source": [
    "# Convert values to binary (0 for not purchased, 1 for purchased)\n",
    "basket = basket.applymap(lambda x: 1 if x > 0 else 0)\n"
   ]
  },
  {
   "cell_type": "code",
   "execution_count": 13,
   "id": "05252c88",
   "metadata": {},
   "outputs": [
    {
     "name": "stdout",
     "output_type": "stream",
     "text": [
      "Description   4 PURPLE FLOCK DINNER CANDLES   50'S CHRISTMAS GIFT BAG LARGE  \\\n",
      "InvoiceNo                                                                     \n",
      "536365                                    0                               0   \n",
      "536366                                    0                               0   \n",
      "536367                                    0                               0   \n",
      "536368                                    0                               0   \n",
      "536369                                    0                               0   \n",
      "\n",
      "Description   DOLLY GIRL BEAKER   I LOVE LONDON MINI BACKPACK  \\\n",
      "InvoiceNo                                                       \n",
      "536365                        0                             0   \n",
      "536366                        0                             0   \n",
      "536367                        0                             0   \n",
      "536368                        0                             0   \n",
      "536369                        0                             0   \n",
      "\n",
      "Description   NINE DRAWER OFFICE TIDY   OVAL WALL MIRROR DIAMANTE   \\\n",
      "InvoiceNo                                                            \n",
      "536365                              0                            0   \n",
      "536366                              0                            0   \n",
      "536367                              0                            0   \n",
      "536368                              0                            0   \n",
      "536369                              0                            0   \n",
      "\n",
      "Description   RED SPOT GIFT BAG LARGE   SET 2 TEA TOWELS I LOVE LONDON   \\\n",
      "InvoiceNo                                                                 \n",
      "536365                              0                                 0   \n",
      "536366                              0                                 0   \n",
      "536367                              0                                 0   \n",
      "536368                              0                                 0   \n",
      "536369                              0                                 0   \n",
      "\n",
      "Description   SPACEBOY BABY GIFT SET   TRELLIS COAT RACK  ...  \\\n",
      "InvoiceNo                                                 ...   \n",
      "536365                             0                   0  ...   \n",
      "536366                             0                   0  ...   \n",
      "536367                             0                   0  ...   \n",
      "536368                             0                   0  ...   \n",
      "536369                             0                   0  ...   \n",
      "\n",
      "Description  ZINC T-LIGHT HOLDER STARS SMALL  ZINC TOP  2 DOOR WOODEN SHELF   \\\n",
      "InvoiceNo                                                                      \n",
      "536365                                     0                               0   \n",
      "536366                                     0                               0   \n",
      "536367                                     0                               0   \n",
      "536368                                     0                               0   \n",
      "536369                                     0                               0   \n",
      "\n",
      "Description  ZINC WILLIE WINKIE  CANDLE STICK  ZINC WIRE KITCHEN ORGANISER  \\\n",
      "InvoiceNo                                                                    \n",
      "536365                                      0                            0   \n",
      "536366                                      0                            0   \n",
      "536367                                      0                            0   \n",
      "536368                                      0                            0   \n",
      "536369                                      0                            0   \n",
      "\n",
      "Description  ZINC WIRE SWEETHEART LETTER TRAY  adjustment  amazon  check  \\\n",
      "InvoiceNo                                                                  \n",
      "536365                                      0           0       0      0   \n",
      "536366                                      0           0       0      0   \n",
      "536367                                      0           0       0      0   \n",
      "536368                                      0           0       0      0   \n",
      "536369                                      0           0       0      0   \n",
      "\n",
      "Description  found  had been put aside  \n",
      "InvoiceNo                               \n",
      "536365           0                   0  \n",
      "536366           0                   0  \n",
      "536367           0                   0  \n",
      "536368           0                   0  \n",
      "536369           0                   0  \n",
      "\n",
      "[5 rows x 3539 columns]\n"
     ]
    }
   ],
   "source": [
    "# Optional: Remove infrequent products (e.g., purchased less than 5 times)\n",
    "basket = basket.loc[:, (basket.sum(axis=0) >= 5)]\n",
    "print(basket.head())"
   ]
  },
  {
   "cell_type": "markdown",
   "id": "ba2ff879",
   "metadata": {},
   "source": [
    "## Step 3: Frequent Itemsets Generation"
   ]
  },
  {
   "cell_type": "code",
   "execution_count": 16,
   "id": "d7211b3e",
   "metadata": {},
   "outputs": [],
   "source": [
    "from mlxtend.frequent_patterns import fpgrowth"
   ]
  },
  {
   "cell_type": "code",
   "execution_count": 17,
   "id": "7d4a77da",
   "metadata": {},
   "outputs": [
    {
     "name": "stderr",
     "output_type": "stream",
     "text": [
      "C:\\Users\\sneha\\Downloads\\anaconda3\\lib\\site-packages\\mlxtend\\frequent_patterns\\fpcommon.py:109: DeprecationWarning: DataFrames with non-bool types result in worse computationalperformance and their support might be discontinued in the future.Please use a DataFrame with bool type\n",
      "  warnings.warn(\n"
     ]
    },
    {
     "name": "stdout",
     "output_type": "stream",
     "text": [
      "    support                               itemsets\n",
      "0  0.092449   (WHITE HANGING HEART T-LIGHT HOLDER)\n",
      "1  0.018776  (KNITTED UNION FLAG HOT WATER BOTTLE)\n",
      "2  0.017549       (RED WOOLLY HOTTIE WHITE HEART.)\n",
      "3  0.015544         (SET 7 BABUSHKA NESTING BOXES)\n",
      "4  0.012558                  (WHITE METAL LANTERN)\n"
     ]
    }
   ],
   "source": [
    "frequent_itemsets = fpgrowth(basket, min_support=0.01, use_colnames=True)\n",
    "print(frequent_itemsets.head())"
   ]
  },
  {
   "cell_type": "markdown",
   "id": "b7e38d12",
   "metadata": {},
   "source": [
    "## Step 4: Generate Association Rules"
   ]
  },
  {
   "cell_type": "code",
   "execution_count": 19,
   "id": "674a3d65",
   "metadata": {},
   "outputs": [],
   "source": [
    "# Create association rules\n",
    "rules = association_rules(frequent_itemsets, metric='lift', min_threshold=1)"
   ]
  },
  {
   "cell_type": "code",
   "execution_count": 20,
   "id": "99c1afec",
   "metadata": {},
   "outputs": [
    {
     "name": "stdout",
     "output_type": "stream",
     "text": [
      "                                            antecedents  \\\n",
      "1417                           (REGENCY TEA PLATE PINK)   \n",
      "1412  (REGENCY TEA PLATE GREEN , REGENCY TEA PLATE R...   \n",
      "1414  (REGENCY TEA PLATE ROSES , REGENCY TEA PLATE P...   \n",
      "1415                         (REGENCY TEA PLATE GREEN )   \n",
      "1408                         (REGENCY TEA PLATE GREEN )   \n",
      "1409                           (REGENCY TEA PLATE PINK)   \n",
      "1416                         (REGENCY TEA PLATE ROSES )   \n",
      "1413  (REGENCY TEA PLATE GREEN , REGENCY TEA PLATE P...   \n",
      "1410                         (REGENCY TEA PLATE ROSES )   \n",
      "1411                           (REGENCY TEA PLATE PINK)   \n",
      "\n",
      "                                            consequents  antecedent support  \\\n",
      "1417  (REGENCY TEA PLATE GREEN , REGENCY TEA PLATE R...            0.012476   \n",
      "1412                           (REGENCY TEA PLATE PINK)            0.013049   \n",
      "1414                         (REGENCY TEA PLATE GREEN )            0.011004   \n",
      "1415  (REGENCY TEA PLATE ROSES , REGENCY TEA PLATE P...            0.015585   \n",
      "1408                           (REGENCY TEA PLATE PINK)            0.015585   \n",
      "1409                         (REGENCY TEA PLATE GREEN )            0.012476   \n",
      "1416  (REGENCY TEA PLATE GREEN , REGENCY TEA PLATE P...            0.018203   \n",
      "1413                         (REGENCY TEA PLATE ROSES )            0.011372   \n",
      "1410                           (REGENCY TEA PLATE PINK)            0.018203   \n",
      "1411                         (REGENCY TEA PLATE ROSES )            0.012476   \n",
      "\n",
      "      consequent support   support  confidence       lift  leverage  \\\n",
      "1417            0.013049  0.010431    0.836066  64.070404  0.010268   \n",
      "1412            0.012476  0.010431    0.799373  64.070404  0.010268   \n",
      "1414            0.015585  0.010431    0.947955  60.823405  0.010260   \n",
      "1415            0.011004  0.010431    0.669291  60.823405  0.010260   \n",
      "1408            0.012476  0.011372    0.729659  58.482750  0.011178   \n",
      "1409            0.015585  0.011372    0.911475  58.482750  0.011178   \n",
      "1416            0.011372  0.010431    0.573034  50.389863  0.010224   \n",
      "1413            0.018203  0.010431    0.917266  50.389863  0.010224   \n",
      "1410            0.012476  0.011004    0.604494  48.450720  0.010777   \n",
      "1411            0.018203  0.011004    0.881967  48.450720  0.010777   \n",
      "\n",
      "      conviction  zhangs_metric  \n",
      "1417    6.020400       0.996829  \n",
      "1412    4.922188       0.997408  \n",
      "1414   18.914824       0.994502  \n",
      "1415    2.990536       0.999131  \n",
      "1408    3.652878       0.998462  \n",
      "1409   11.120239       0.995319  \n",
      "1416    2.315471       0.998328  \n",
      "1413   11.866933       0.991429  \n",
      "1410    2.496863       0.997519  \n",
      "1411    8.317999       0.991734  \n"
     ]
    }
   ],
   "source": [
    "# Display the top rules sorted by lift\n",
    "rules = rules.sort_values('lift', ascending=False)\n",
    "print(rules.head(10))"
   ]
  },
  {
   "cell_type": "markdown",
   "id": "357374a2",
   "metadata": {},
   "source": [
    "## step 5 :save the result"
   ]
  },
  {
   "cell_type": "code",
   "execution_count": 21,
   "id": "bd7b2449",
   "metadata": {},
   "outputs": [],
   "source": [
    "# Save rules to a CSV file\n",
    "rules.to_csv('association_rules_output.csv', index=False)"
   ]
  },
  {
   "cell_type": "code",
   "execution_count": 26,
   "id": "82b78ff3",
   "metadata": {},
   "outputs": [],
   "source": [
    "df=pd.read_csv('association_rules_output.csv')"
   ]
  },
  {
   "cell_type": "code",
   "execution_count": 27,
   "id": "a9c314a3",
   "metadata": {},
   "outputs": [
    {
     "data": {
      "text/html": [
       "<div>\n",
       "<style scoped>\n",
       "    .dataframe tbody tr th:only-of-type {\n",
       "        vertical-align: middle;\n",
       "    }\n",
       "\n",
       "    .dataframe tbody tr th {\n",
       "        vertical-align: top;\n",
       "    }\n",
       "\n",
       "    .dataframe thead th {\n",
       "        text-align: right;\n",
       "    }\n",
       "</style>\n",
       "<table border=\"1\" class=\"dataframe\">\n",
       "  <thead>\n",
       "    <tr style=\"text-align: right;\">\n",
       "      <th></th>\n",
       "      <th>antecedents</th>\n",
       "      <th>consequents</th>\n",
       "      <th>antecedent support</th>\n",
       "      <th>consequent support</th>\n",
       "      <th>support</th>\n",
       "      <th>confidence</th>\n",
       "      <th>lift</th>\n",
       "      <th>leverage</th>\n",
       "      <th>conviction</th>\n",
       "      <th>zhangs_metric</th>\n",
       "    </tr>\n",
       "  </thead>\n",
       "  <tbody>\n",
       "    <tr>\n",
       "      <th>0</th>\n",
       "      <td>frozenset({'REGENCY TEA PLATE PINK'})</td>\n",
       "      <td>frozenset({'REGENCY TEA PLATE GREEN ', 'REGENC...</td>\n",
       "      <td>0.012476</td>\n",
       "      <td>0.013049</td>\n",
       "      <td>0.010431</td>\n",
       "      <td>0.836066</td>\n",
       "      <td>64.070404</td>\n",
       "      <td>0.010268</td>\n",
       "      <td>6.020400</td>\n",
       "      <td>0.996829</td>\n",
       "    </tr>\n",
       "    <tr>\n",
       "      <th>1</th>\n",
       "      <td>frozenset({'REGENCY TEA PLATE GREEN ', 'REGENC...</td>\n",
       "      <td>frozenset({'REGENCY TEA PLATE PINK'})</td>\n",
       "      <td>0.013049</td>\n",
       "      <td>0.012476</td>\n",
       "      <td>0.010431</td>\n",
       "      <td>0.799373</td>\n",
       "      <td>64.070404</td>\n",
       "      <td>0.010268</td>\n",
       "      <td>4.922188</td>\n",
       "      <td>0.997408</td>\n",
       "    </tr>\n",
       "    <tr>\n",
       "      <th>2</th>\n",
       "      <td>frozenset({'REGENCY TEA PLATE ROSES ', 'REGENC...</td>\n",
       "      <td>frozenset({'REGENCY TEA PLATE GREEN '})</td>\n",
       "      <td>0.011004</td>\n",
       "      <td>0.015585</td>\n",
       "      <td>0.010431</td>\n",
       "      <td>0.947955</td>\n",
       "      <td>60.823405</td>\n",
       "      <td>0.010260</td>\n",
       "      <td>18.914824</td>\n",
       "      <td>0.994502</td>\n",
       "    </tr>\n",
       "    <tr>\n",
       "      <th>3</th>\n",
       "      <td>frozenset({'REGENCY TEA PLATE GREEN '})</td>\n",
       "      <td>frozenset({'REGENCY TEA PLATE ROSES ', 'REGENC...</td>\n",
       "      <td>0.015585</td>\n",
       "      <td>0.011004</td>\n",
       "      <td>0.010431</td>\n",
       "      <td>0.669291</td>\n",
       "      <td>60.823405</td>\n",
       "      <td>0.010260</td>\n",
       "      <td>2.990536</td>\n",
       "      <td>0.999131</td>\n",
       "    </tr>\n",
       "    <tr>\n",
       "      <th>4</th>\n",
       "      <td>frozenset({'REGENCY TEA PLATE GREEN '})</td>\n",
       "      <td>frozenset({'REGENCY TEA PLATE PINK'})</td>\n",
       "      <td>0.015585</td>\n",
       "      <td>0.012476</td>\n",
       "      <td>0.011372</td>\n",
       "      <td>0.729659</td>\n",
       "      <td>58.482750</td>\n",
       "      <td>0.011178</td>\n",
       "      <td>3.652878</td>\n",
       "      <td>0.998462</td>\n",
       "    </tr>\n",
       "  </tbody>\n",
       "</table>\n",
       "</div>"
      ],
      "text/plain": [
       "                                         antecedents  \\\n",
       "0              frozenset({'REGENCY TEA PLATE PINK'})   \n",
       "1  frozenset({'REGENCY TEA PLATE GREEN ', 'REGENC...   \n",
       "2  frozenset({'REGENCY TEA PLATE ROSES ', 'REGENC...   \n",
       "3            frozenset({'REGENCY TEA PLATE GREEN '})   \n",
       "4            frozenset({'REGENCY TEA PLATE GREEN '})   \n",
       "\n",
       "                                         consequents  antecedent support  \\\n",
       "0  frozenset({'REGENCY TEA PLATE GREEN ', 'REGENC...            0.012476   \n",
       "1              frozenset({'REGENCY TEA PLATE PINK'})            0.013049   \n",
       "2            frozenset({'REGENCY TEA PLATE GREEN '})            0.011004   \n",
       "3  frozenset({'REGENCY TEA PLATE ROSES ', 'REGENC...            0.015585   \n",
       "4              frozenset({'REGENCY TEA PLATE PINK'})            0.015585   \n",
       "\n",
       "   consequent support   support  confidence       lift  leverage  conviction  \\\n",
       "0            0.013049  0.010431    0.836066  64.070404  0.010268    6.020400   \n",
       "1            0.012476  0.010431    0.799373  64.070404  0.010268    4.922188   \n",
       "2            0.015585  0.010431    0.947955  60.823405  0.010260   18.914824   \n",
       "3            0.011004  0.010431    0.669291  60.823405  0.010260    2.990536   \n",
       "4            0.012476  0.011372    0.729659  58.482750  0.011178    3.652878   \n",
       "\n",
       "   zhangs_metric  \n",
       "0       0.996829  \n",
       "1       0.997408  \n",
       "2       0.994502  \n",
       "3       0.999131  \n",
       "4       0.998462  "
      ]
     },
     "execution_count": 27,
     "metadata": {},
     "output_type": "execute_result"
    }
   ],
   "source": [
    "df.head()"
   ]
  },
  {
   "cell_type": "markdown",
   "id": "270d6de0",
   "metadata": {},
   "source": [
    "## Interview Questions:\n",
    "\n",
    "1.\tWhat is lift and why is it important in Association rules?\n",
    "\n",
    "2.\tWhat is support and Confidence. How do you calculate them?\n",
    "\n",
    "3.\tWhat are some limitations or challenges of Association rules mining?\n"
   ]
  },
  {
   "cell_type": "markdown",
   "id": "c0e7791c",
   "metadata": {},
   "source": [
    "**1. What is lift and why is it important in Association Rules?**\n",
    "\n",
    "**Definition:** Lift is a metric that measures the strength of an association rule by comparing the observed frequency of co-occurrence of items to the expected frequency if the items were independent. It is calculated as the ratio of the confidence of the rule to the support of the consequent.\n",
    "\n",
    "**Importance:** Lift helps identify the strength of the relationship between items. A lift value greater than 1 indicates a positive correlation, meaning the presence of one item increases the likelihood of the other, which can be crucial for marketing strategies and product placements."
   ]
  },
  {
   "cell_type": "markdown",
   "id": "e85f336c",
   "metadata": {},
   "source": [
    "**2. What is support and confidence? How do you calculate them?**\n",
    "\n",
    "**Support:** Support measures the frequency with which an itemset appears in the dataset. It is calculated as the number of transactions containing the itemset divided by the total number of transactions.\n",
    "\n",
    "Support\n",
    "(\n",
    "𝐴\n",
    ")\n",
    "=\n",
    "Number of transactions containing A\n",
    "----------------\n",
    "Total number of transactions\n",
    "\n",
    "​\n",
    " \n",
    "**Confidence:** Confidence measures the likelihood that item B is purchased when item A is purchased. It is calculated as the number of transactions containing both A and B divided by the number of transactions containing A.\n",
    "\n",
    "Confidence(A→B)= \n",
    "Support(A∪B)\n",
    "/\n",
    "Support(A)"
   ]
  },
  {
   "cell_type": "markdown",
   "id": "b5a552f0",
   "metadata": {},
   "source": [
    "**3. What are some limitations or challenges of Association Rules Mining?**\n",
    "**High Dimensionality:** The presence of many items can lead to a combinatorial explosion of potential itemsets, making it computationally expensive to find frequent itemsets and generate rules. This can result in long processing times and difficulty in managing the resulting rules.\n",
    "\n",
    "**Interpretation Challenges:**  The rules generated may not always be meaningful or actionable. Users may struggle to interpret complex rules, and the rules may not always lead to effective marketing or operational strategies, especially if the support and confidence thresholds are not properly set."
   ]
  },
  {
   "cell_type": "code",
   "execution_count": null,
   "id": "848427b9",
   "metadata": {},
   "outputs": [],
   "source": []
  }
 ],
 "metadata": {
  "kernelspec": {
   "display_name": "Python 3 (ipykernel)",
   "language": "python",
   "name": "python3"
  },
  "language_info": {
   "codemirror_mode": {
    "name": "ipython",
    "version": 3
   },
   "file_extension": ".py",
   "mimetype": "text/x-python",
   "name": "python",
   "nbconvert_exporter": "python",
   "pygments_lexer": "ipython3",
   "version": "3.10.9"
  }
 },
 "nbformat": 4,
 "nbformat_minor": 5
}
